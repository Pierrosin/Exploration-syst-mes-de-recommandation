{
  "cells": [
    {
      "cell_type": "markdown",
      "metadata": {
        "id": "Yi8yXoiIwwqL"
      },
      "source": [
        "# Approches hybrides : réseaux de neurones\n",
        "\n",
        "Pierrick DOSSIN  \n",
        "Guillaume RIU "
      ]
    },
    {
      "cell_type": "code",
      "execution_count": 1,
      "metadata": {
        "colab": {
          "base_uri": "https://localhost:8080/"
        },
        "id": "iUJAKyxxAA-h",
        "outputId": "bb3db904-4860-4c07-c3cd-0dc6d8055b58"
      },
      "outputs": [
        {
          "output_type": "stream",
          "name": "stdout",
          "text": [
            "Looking in indexes: https://pypi.org/simple, https://us-python.pkg.dev/colab-wheels/public/simple/\n",
            "Collecting tfds-nightly\n",
            "  Downloading tfds_nightly-4.9.2.dev202304240044-py3-none-any.whl (5.4 MB)\n",
            "\u001b[2K     \u001b[90m━━━━━━━━━━━━━━━━━━━━━━━━━━━━━━━━━━━━━━━━\u001b[0m \u001b[32m5.4/5.4 MB\u001b[0m \u001b[31m22.8 MB/s\u001b[0m eta \u001b[36m0:00:00\u001b[0m\n",
            "\u001b[?25hRequirement already satisfied: click in /usr/local/lib/python3.9/dist-packages (from tfds-nightly) (8.1.3)\n",
            "Requirement already satisfied: termcolor in /usr/local/lib/python3.9/dist-packages (from tfds-nightly) (2.2.0)\n",
            "Collecting array-record\n",
            "  Downloading array_record-0.2.0-py39-none-any.whl (3.0 MB)\n",
            "\u001b[2K     \u001b[90m━━━━━━━━━━━━━━━━━━━━━━━━━━━━━━━━━━━━━━━━\u001b[0m \u001b[32m3.0/3.0 MB\u001b[0m \u001b[31m37.6 MB/s\u001b[0m eta \u001b[36m0:00:00\u001b[0m\n",
            "\u001b[?25hRequirement already satisfied: tensorflow-metadata in /usr/local/lib/python3.9/dist-packages (from tfds-nightly) (1.13.1)\n",
            "Requirement already satisfied: wrapt in /usr/local/lib/python3.9/dist-packages (from tfds-nightly) (1.14.1)\n",
            "Requirement already satisfied: tqdm in /usr/local/lib/python3.9/dist-packages (from tfds-nightly) (4.65.0)\n",
            "Requirement already satisfied: absl-py in /usr/local/lib/python3.9/dist-packages (from tfds-nightly) (1.4.0)\n",
            "Requirement already satisfied: numpy in /usr/local/lib/python3.9/dist-packages (from tfds-nightly) (1.22.4)\n",
            "Requirement already satisfied: requests>=2.19.0 in /usr/local/lib/python3.9/dist-packages (from tfds-nightly) (2.27.1)\n",
            "Requirement already satisfied: promise in /usr/local/lib/python3.9/dist-packages (from tfds-nightly) (2.3)\n",
            "Requirement already satisfied: etils[enp,epath]>=0.9.0 in /usr/local/lib/python3.9/dist-packages (from tfds-nightly) (1.2.0)\n",
            "Requirement already satisfied: psutil in /usr/local/lib/python3.9/dist-packages (from tfds-nightly) (5.9.5)\n",
            "Requirement already satisfied: dm-tree in /usr/local/lib/python3.9/dist-packages (from tfds-nightly) (0.1.8)\n",
            "Requirement already satisfied: toml in /usr/local/lib/python3.9/dist-packages (from tfds-nightly) (0.10.2)\n",
            "Requirement already satisfied: protobuf>=3.20 in /usr/local/lib/python3.9/dist-packages (from tfds-nightly) (3.20.3)\n",
            "Requirement already satisfied: importlib_resources in /usr/local/lib/python3.9/dist-packages (from etils[enp,epath]>=0.9.0->tfds-nightly) (5.12.0)\n",
            "Requirement already satisfied: zipp in /usr/local/lib/python3.9/dist-packages (from etils[enp,epath]>=0.9.0->tfds-nightly) (3.15.0)\n",
            "Requirement already satisfied: typing_extensions in /usr/local/lib/python3.9/dist-packages (from etils[enp,epath]>=0.9.0->tfds-nightly) (4.5.0)\n",
            "Requirement already satisfied: idna<4,>=2.5 in /usr/local/lib/python3.9/dist-packages (from requests>=2.19.0->tfds-nightly) (3.4)\n",
            "Requirement already satisfied: certifi>=2017.4.17 in /usr/local/lib/python3.9/dist-packages (from requests>=2.19.0->tfds-nightly) (2022.12.7)\n",
            "Requirement already satisfied: charset-normalizer~=2.0.0 in /usr/local/lib/python3.9/dist-packages (from requests>=2.19.0->tfds-nightly) (2.0.12)\n",
            "Requirement already satisfied: urllib3<1.27,>=1.21.1 in /usr/local/lib/python3.9/dist-packages (from requests>=2.19.0->tfds-nightly) (1.26.15)\n",
            "Requirement already satisfied: six in /usr/local/lib/python3.9/dist-packages (from promise->tfds-nightly) (1.16.0)\n",
            "Requirement already satisfied: googleapis-common-protos<2,>=1.52.0 in /usr/local/lib/python3.9/dist-packages (from tensorflow-metadata->tfds-nightly) (1.59.0)\n",
            "Installing collected packages: array-record, tfds-nightly\n",
            "Successfully installed array-record-0.2.0 tfds-nightly-4.9.2.dev202304240044\n",
            "\u001b[2K     \u001b[90m━━━━━━━━━━━━━━━━━━━━━━━━━━━━━━━━━━━━━━━━\u001b[0m \u001b[32m96.2/96.2 kB\u001b[0m \u001b[31m4.2 MB/s\u001b[0m eta \u001b[36m0:00:00\u001b[0m\n",
            "\u001b[2K     \u001b[90m━━━━━━━━━━━━━━━━━━━━━━━━━━━━━━━━━━━━━━━━\u001b[0m \u001b[32m3.9/3.9 MB\u001b[0m \u001b[31m50.2 MB/s\u001b[0m eta \u001b[36m0:00:00\u001b[0m\n",
            "\u001b[2K     \u001b[90m━━━━━━━━━━━━━━━━━━━━━━━━━━━━━━━━━━━━━━\u001b[0m \u001b[32m110.5/110.5 kB\u001b[0m \u001b[31m12.0 MB/s\u001b[0m eta \u001b[36m0:00:00\u001b[0m\n",
            "\u001b[2K     \u001b[90m━━━━━━━━━━━━━━━━━━━━━━━━━━━━━━━━━━━━━━━━\u001b[0m \u001b[32m10.5/10.5 MB\u001b[0m \u001b[31m94.3 MB/s\u001b[0m eta \u001b[36m0:00:00\u001b[0m\n",
            "\u001b[2K     \u001b[90m━━━━━━━━━━━━━━━━━━━━━━━━━━━━━━━━━━━━━━━\u001b[0m \u001b[32m588.3/588.3 MB\u001b[0m \u001b[31m2.9 MB/s\u001b[0m eta \u001b[36m0:00:00\u001b[0m\n",
            "\u001b[2K     \u001b[90m━━━━━━━━━━━━━━━━━━━━━━━━━━━━━━━━━━━━━━━━\u001b[0m \u001b[32m1.1/1.1 MB\u001b[0m \u001b[31m73.6 MB/s\u001b[0m eta \u001b[36m0:00:00\u001b[0m\n",
            "\u001b[2K     \u001b[90m━━━━━━━━━━━━━━━━━━━━━━━━━━━━━━━━━━━━━━\u001b[0m \u001b[32m439.2/439.2 kB\u001b[0m \u001b[31m44.2 MB/s\u001b[0m eta \u001b[36m0:00:00\u001b[0m\n",
            "\u001b[2K     \u001b[90m━━━━━━━━━━━━━━━━━━━━━━━━━━━━━━━━━━━━━━━━\u001b[0m \u001b[32m1.7/1.7 MB\u001b[0m \u001b[31m88.1 MB/s\u001b[0m eta \u001b[36m0:00:00\u001b[0m\n",
            "\u001b[2K     \u001b[90m━━━━━━━━━━━━━━━━━━━━━━━━━━━━━━━━━━━━━━━━\u001b[0m \u001b[32m6.0/6.0 MB\u001b[0m \u001b[31m109.0 MB/s\u001b[0m eta \u001b[36m0:00:00\u001b[0m\n",
            "\u001b[2K     \u001b[90m━━━━━━━━━━━━━━━━━━━━━━━━━━━━━━━━━━━━━━━━\u001b[0m \u001b[32m4.9/4.9 MB\u001b[0m \u001b[31m113.2 MB/s\u001b[0m eta \u001b[36m0:00:00\u001b[0m\n",
            "\u001b[?25h\u001b[31mERROR: pip's dependency resolver does not currently take into account all the packages that are installed. This behaviour is the source of the following dependency conflicts.\n",
            "tfds-nightly 4.9.2.dev202304240044 requires protobuf>=3.20, but you have protobuf 3.19.6 which is incompatible.\n",
            "tensorflow-metadata 1.13.1 requires protobuf<5,>=3.20.3, but you have protobuf 3.19.6 which is incompatible.\u001b[0m\u001b[31m\n",
            "\u001b[0m"
          ]
        }
      ],
      "source": [
        "!pip install tfds-nightly\n",
        "!pip install -q tensorflow-recommenders\n",
        "!pip install -q --upgrade tensorflow-datasets==4.3\n",
        "!pip install -q scann"
      ]
    },
    {
      "cell_type": "code",
      "execution_count": 2,
      "metadata": {
        "id": "t5Mylp7CACnE"
      },
      "outputs": [],
      "source": [
        "import os\n",
        "import pprint\n",
        "import tempfile\n",
        "\n",
        "from tqdm import tqdm\n",
        "from typing import Dict, Text\n",
        "\n",
        "import numpy as np\n",
        "import pandas as pd\n",
        "import matplotlib.pyplot as plt\n",
        "\n",
        "import tensorflow as tf\n",
        "#import tensorflow_datasets as tfds\n",
        "\n",
        "import tensorflow_recommenders as tfrs"
      ]
    },
    {
      "cell_type": "markdown",
      "metadata": {
        "id": "X51rl6S_7uyy"
      },
      "source": [
        "#### Charger les données"
      ]
    },
    {
      "cell_type": "code",
      "execution_count": 3,
      "metadata": {
        "id": "ls5nOB_GcvaB"
      },
      "outputs": [],
      "source": [
        "# Chargement des données\n",
        "movie_path = 'Data/items.csv'\n",
        "user_path  = 'Data/u.csv'\n",
        "votes_path = 'Data/votes.csv'\n",
        "\n",
        "movie_feat = pd.read_csv(movie_path)\n",
        "user_feat  = pd.read_csv(user_path)\n",
        "votes_df   = pd.read_csv(votes_path)\n",
        "votes_df   = votes_df.astype('float32')\n",
        "votes_df   = votes_df.rename(columns={'user.id': 'user_id', 'item.id': 'movie_id', 'rating': 'user_rating', 'timestamp': 'timestamp'})"
      ]
    },
    {
      "cell_type": "code",
      "execution_count": 4,
      "metadata": {
        "id": "lkGxv6l6CYrU"
      },
      "outputs": [],
      "source": [
        "# Convertir le dataframe en un tf dataset\n",
        "votes_tf  = tf.data.Dataset.from_tensor_slices(tf.cast(votes_df.values, tf.float32))"
      ]
    },
    {
      "cell_type": "code",
      "execution_count": 36,
      "metadata": {
        "id": "mqsGMFvBQztl"
      },
      "outputs": [],
      "source": [
        "# summarize history for loss\n",
        "def plot_history(history, model_name=\"Two Towers\"):\n",
        "    plt.plot(history.history['mean_squared_error'])\n",
        "    plt.plot(history.history['val_mean_squared_error'])\n",
        "    plt.title(model_name + ' Model MSE')\n",
        "    plt.ylabel('MSE')\n",
        "    plt.xlabel('epoch')\n",
        "    plt.legend(['train', 'validation'], loc='best')\n",
        "    plt.show()\n",
        "    print(\"\\n\\nErreur MSE méthode Two Tower : {0:.4f}\".format(min(history.history['val_mean_squared_error'])))\n",
        "    print(\"Erreur MAE methode Two Tower : {0:.4f}\".format(history.history['val_mean_absolute_error'][np.argmin(history.history['val_mean_squared_error'])]))"
      ]
    },
    {
      "cell_type": "code",
      "execution_count": 6,
      "metadata": {
        "id": "ViGKneQPIq_t",
        "colab": {
          "base_uri": "https://localhost:8080/"
        },
        "outputId": "a38f9936-402b-46b0-f43a-abe5d5dab600"
      },
      "outputs": [
        {
          "output_type": "stream",
          "name": "stderr",
          "text": [
            "WARNING:tensorflow:From /usr/local/lib/python3.9/dist-packages/tensorflow/python/autograph/pyct/static_analysis/liveness.py:83: Analyzer.lamba_check (from tensorflow.python.autograph.pyct.static_analysis.liveness) is deprecated and will be removed after 2023-09-23.\n",
            "Instructions for updating:\n",
            "Lambda fuctions will be no more assumed to be used in the statement where they are used, or at least in the same block. https://github.com/tensorflow/tensorflow/issues/56089\n"
          ]
        }
      ],
      "source": [
        "# Extraire les attributs pour entrainer le modèle\n",
        "votes = votes_tf.map(lambda x: {\"user_id\": tf.strings.as_string(x[0]), \"movie_id\": tf.strings.as_string(x[1]), \"user_rating\": x[2]})"
      ]
    },
    {
      "cell_type": "code",
      "execution_count": 7,
      "metadata": {
        "colab": {
          "base_uri": "https://localhost:8080/"
        },
        "id": "ibyirDH98Wiy",
        "outputId": "8c8cc916-06b3-4808-d6ac-3d293ae05aa3"
      },
      "outputs": [
        {
          "output_type": "execute_result",
          "data": {
            "text/plain": [
              "1682"
            ]
          },
          "metadata": {},
          "execution_count": 7
        }
      ],
      "source": [
        "#Titres des films\n",
        "titres_films    = votes.map(lambda x: x[\"movie_id\"]).batch(1000000)# On prend tous les films d'un coup\n",
        "films_unique    = np.unique(np.concatenate(list(titres_films)))\n",
        "nb_films_unique = films_unique.shape[0]\n",
        "nb_films_unique"
      ]
    },
    {
      "cell_type": "code",
      "execution_count": 8,
      "metadata": {
        "colab": {
          "base_uri": "https://localhost:8080/"
        },
        "id": "u1EZkAyu8Wiy",
        "outputId": "99ddaae1-3546-41c5-a490-cdf888e6c4a0"
      },
      "outputs": [
        {
          "output_type": "execute_result",
          "data": {
            "text/plain": [
              "943"
            ]
          },
          "metadata": {},
          "execution_count": 8
        }
      ],
      "source": [
        "#Identifiant des utilisateurs\n",
        "id_utilisateurs = votes.map(lambda x: x[\"user_id\"]).batch(1000000)# On prend tous les utilisateurs d'un coup\n",
        "id_uniques      = np.unique(np.concatenate(list(id_utilisateurs)))\n",
        "nb_id_uniques   = id_uniques.shape[0]\n",
        "nb_id_uniques"
      ]
    },
    {
      "cell_type": "markdown",
      "metadata": {
        "id": "yD5AjtAfJhCB"
      },
      "source": [
        "### Initialisation des métriques MSE et MAE"
      ]
    },
    {
      "cell_type": "code",
      "execution_count": 26,
      "metadata": {
        "id": "wk5le5DAJgUf"
      },
      "outputs": [],
      "source": [
        "task = tfrs.tasks.Ranking(\n",
        "    loss = tf.keras.losses.MeanSquaredError(), \n",
        "    metrics = [tf.keras.metrics.MeanSquaredError(), tf.keras.metrics.MeanAbsoluteError()])"
      ]
    },
    {
      "cell_type": "code",
      "execution_count": 11,
      "metadata": {
        "id": "DjVKI9T7Q2zf"
      },
      "outputs": [],
      "source": [
        "# Définition des couches de plongement pour les utilisateurs et les films\n",
        "def initialisation_embeddings(embedding_dimension, id_uniques, films_unique):\n",
        "    user_model = tf.keras.Sequential([tf.keras.layers.experimental.preprocessing.StringLookup(vocabulary=id_uniques, mask_token=None),\n",
        "                                    tf.keras.layers.Embedding(len(id_uniques) + 1,# Le +1 représente la constante $c$\n",
        "                                                                embedding_dimension)], name=\"User_Embedding\")\n",
        "\n",
        "    movie_model = tf.keras.Sequential([tf.keras.layers.experimental.preprocessing.StringLookup(vocabulary=films_unique,mask_token=None),\n",
        "                                    tf.keras.layers.Embedding(len(films_unique) + 1, \n",
        "                                                                embedding_dimension)], name=\"Movie_Embedding\")  \n",
        "    return user_model, movie_model"
      ]
    },
    {
      "cell_type": "markdown",
      "metadata": {
        "id": "8wXJezITRCGk"
      },
      "source": [
        "#### Définir les bases de données d'entrainement et de validation (proportion $80\\%-20\\%$)."
      ]
    },
    {
      "cell_type": "code",
      "execution_count": 35,
      "metadata": {
        "id": "0ZI0GidMW9ju"
      },
      "outputs": [],
      "source": [
        "N          = len(votes)\n",
        "batch_size = 8192 #2^13\n",
        "prop       = 0.8\n",
        "embedding_dimension = 64\n",
        "train_len  = tf.cast(N * prop, dtype=tf.int64)\n",
        "valid_len   = tf.cast(N - train_len, dtype=tf.int64)\n",
        "\n",
        "\n",
        "tf.random.set_seed(73)\n",
        "train = votes.take(train_len).shuffle(train_len, seed=73, reshuffle_each_iteration=False).batch(batch_size)\n",
        "valid = votes.skip(train_len).take(valid_len).shuffle(valid_len, seed=73, reshuffle_each_iteration=False).batch(batch_size)"
      ]
    },
    {
      "cell_type": "code",
      "execution_count": 13,
      "metadata": {
        "colab": {
          "base_uri": "https://localhost:8080/"
        },
        "collapsed": true,
        "id": "86HwCAJoiJxh",
        "outputId": "58348f02-21c4-402e-ff4e-27efc24b1740"
      },
      "outputs": [
        {
          "output_type": "execute_result",
          "data": {
            "text/plain": [
              "{'user_id': <tf.Tensor: shape=(8192,), dtype=string, numpy=\n",
              " array([b'459.000000', b'206.000000', b'92.000000', ..., b'653.000000',\n",
              "        b'210.000000', b'345.000000'], dtype=object)>,\n",
              " 'movie_id': <tf.Tensor: shape=(8192,), dtype=string, numpy=\n",
              " array([b'879.000000', b'882.000000', b'475.000000', ..., b'403.000000',\n",
              "        b'451.000000', b'518.000000'], dtype=object)>,\n",
              " 'user_rating': <tf.Tensor: shape=(8192,), dtype=float32, numpy=array([4., 1., 5., ..., 2., 3., 4.], dtype=float32)>}"
            ]
          },
          "metadata": {},
          "execution_count": 13
        }
      ],
      "source": [
        "# On tire un exemple pour construire le graphe du modèle\n",
        "feature = next(iter(train))\n",
        "feature"
      ]
    },
    {
      "cell_type": "markdown",
      "metadata": {
        "id": "-J9HUKr2Gf7a"
      },
      "source": [
        "## Approche Two Tower\n",
        "Nous allons définir et entrainer le modèle *Two Tower* afin de prédire les votes selon cette formule :\n",
        "\n",
        "$$pred_{i,j}= \\sigma(b + biais_{u_i} + biais_{f_j} +E_{u_i}^TE_{f_j}) \\times (M_{vote} - m_{vote}) + m_{vote} $$\n",
        "<br>\n",
        "\n",
        "Où $(E_{u_i}, E_{f_j}) \\in \\mathbb{R}^n \\times \\mathbb{R}^n$ sont respectivement les plongements (<i>embeddings</i>) de l'utilisateur $i$, $u_i$, et du film $j$, $f_j$.\n",
        "\n",
        "$b \\in \\mathbb{R}$ est la constante qui représente la moyenne. \n",
        "\n",
        "$n \\in \\mathbb{N}$ est la dimension de l'espace latent des utilisateurs et des films.\n",
        "\n",
        "\n",
        "$biais_{u_i} \\in \\mathbb{R}$ est le biais associé à l'utilisateur $u_i$ et $biais_{f_j} \\in \\mathbb{R}$ le biais associé au film $f_j$. \n",
        "\n",
        "$\\sigma: x \\mapsto \\cfrac{1}{1+e^{-x}}$ est la fonction sigmoid.\n",
        "\n",
        "Et, $M_{vote}, m_{vote}$ sont respectivement le maximum et le minimum des votes utilisateurs. Dans notre cas, $M_{vote}=5$ et $m_{vote}=1$."
      ]
    },
    {
      "cell_type": "code",
      "execution_count": 20,
      "metadata": {
        "id": "LRkKTjY_cgRZ"
      },
      "outputs": [],
      "source": [
        "#MovieLensModelWithBias Herite des attributs et des méthodes de MovieLensModel\n",
        "class MovieLensModelWithBias(tfrs.models.Model):\n",
        "\n",
        "  def __init__(self, embedding_dimension, id_uniques, films_unique, task, min_vote=1, max_vote=5):\n",
        "    super().__init__()\n",
        "\n",
        "    self.user_model, self.movie_model = initialisation_embeddings(embedding_dimension, id_uniques, films_unique)\n",
        "    \n",
        "    self.pred = tf.keras.layers.Dot(axes=1)\n",
        "    \n",
        "    self.task: tf.keras.layers.Layer = task\n",
        "\n",
        "    self.min_vote, self.max_vote = min_vote, max_vote\n",
        "\n",
        "    self.user_bias = tf.keras.Sequential([tf.keras.layers.experimental.preprocessing.StringLookup(vocabulary=id_uniques, mask_token=None),\n",
        "                                    tf.keras.layers.Embedding(len(id_uniques) + 1, 1)], name=\"User_Bias\")\n",
        "\n",
        "    self.movie_bias = tf.keras.Sequential([tf.keras.layers.experimental.preprocessing.StringLookup(vocabulary=films_unique, mask_token=None),\n",
        "                                    tf.keras.layers.Embedding(len(films_unique) + 1, 1)], name=\"Movie_Bias\")\n",
        "\n",
        "    self.user_dropout  = tf.keras.layers.Dropout(rate = 0.3, name=\"User_Dropout\")\n",
        "    self.movie_dropout = tf.keras.layers.Dropout(rate = 0.6, name=\"Movie_Dropout\")\n",
        "\n",
        "  def call(self, features):\n",
        "    bias_u = self.user_dropout(self.user_bias(features['user_id']))\n",
        "    bias_i = self.movie_dropout(self.movie_bias(features['movie_id']))\n",
        "    two_tower = self.pred([self.user_model(features['user_id']), self.movie_model(features['movie_id'])])\n",
        "    return tf.math.sigmoid(two_tower + bias_u + bias_i) * (self.max_vote - self.min_vote) + self.min_vote\n",
        "  \n",
        "  def compute_loss(self, features: Dict[Text, tf.Tensor], training=False) -> tf.Tensor:\n",
        "    return self.task(labels=features[\"user_rating\"], predictions=self.call(features))"
      ]
    },
    {
      "cell_type": "code",
      "execution_count": 27,
      "metadata": {
        "colab": {
          "base_uri": "https://localhost:8080/"
        },
        "id": "83ADzoELml6x",
        "outputId": "2147b928-1cbb-4f66-a939-1de01a7db1f3"
      },
      "outputs": [
        {
          "output_type": "stream",
          "name": "stdout",
          "text": [
            "Model: \"movie_lens_model_with_bias_2\"\n",
            "_________________________________________________________________\n",
            " Layer (type)                Output Shape              Param #   \n",
            "=================================================================\n",
            " User_Embedding (Sequential)  (8192, 64)               60416     \n",
            "                                                                 \n",
            " Movie_Embedding (Sequential  (8192, 64)               107712    \n",
            " )                                                               \n",
            "                                                                 \n",
            " dot_2 (Dot)                 multiple                  0         \n",
            "                                                                 \n",
            " ranking_1 (Ranking)         multiple                  0 (unused)\n",
            "                                                                 \n",
            " User_Bias (Sequential)      (8192, 1)                 944       \n",
            "                                                                 \n",
            " Movie_Bias (Sequential)     (8192, 1)                 1683      \n",
            "                                                                 \n",
            " User_Dropout (Dropout)      multiple                  0         \n",
            "                                                                 \n",
            " Movie_Dropout (Dropout)     multiple                  0         \n",
            "                                                                 \n",
            "=================================================================\n",
            "Total params: 170,755\n",
            "Trainable params: 170,755\n",
            "Non-trainable params: 0\n",
            "_________________________________________________________________\n"
          ]
        }
      ],
      "source": [
        "#Initialisez le modèle et afficher ses couches (summary)\n",
        "Model_2 = MovieLensModelWithBias(embedding_dimension, id_uniques, films_unique, task)\n",
        "Model_2(feature)\n",
        "Model_2.summary()"
      ]
    },
    {
      "cell_type": "code",
      "execution_count": 28,
      "metadata": {
        "id": "DV9_n_jKm97A"
      },
      "outputs": [],
      "source": [
        "# Compilez le modèle en ajoutant l'optimiseur Adam\n",
        "Model_2.compile(optimizer=tf.keras.optimizers.Adam(learning_rate=0.005))\n",
        "\n",
        "my_callbacks = [\n",
        "    tf.keras.callbacks.EarlyStopping(patience=5),\n",
        "]"
      ]
    },
    {
      "cell_type": "code",
      "execution_count": 29,
      "metadata": {
        "colab": {
          "base_uri": "https://localhost:8080/"
        },
        "id": "slPoB57hnAUi",
        "outputId": "4235b189-2fb6-4b44-a2e7-716dea3d4fdf"
      },
      "outputs": [
        {
          "output_type": "stream",
          "name": "stdout",
          "text": [
            "Epoch 1/15\n",
            "10/10 [==============================] - 12s 725ms/step - mean_squared_error: 1.5079 - mean_absolute_error: 0.9988 - loss: 1.4999 - regularization_loss: 0.0000e+00 - total_loss: 1.4999 - val_mean_squared_error: 1.4221 - val_mean_absolute_error: 0.9721 - val_loss: 1.3966 - val_regularization_loss: 0.0000e+00 - val_total_loss: 1.3966\n",
            "Epoch 2/15\n",
            "10/10 [==============================] - 8s 558ms/step - mean_squared_error: 1.3690 - mean_absolute_error: 0.9611 - loss: 1.3597 - regularization_loss: 0.0000e+00 - total_loss: 1.3597 - val_mean_squared_error: 1.2915 - val_mean_absolute_error: 0.9386 - val_loss: 1.2666 - val_regularization_loss: 0.0000e+00 - val_total_loss: 1.2666\n",
            "Epoch 3/15\n",
            "10/10 [==============================] - 6s 379ms/step - mean_squared_error: 1.1723 - mean_absolute_error: 0.8992 - loss: 1.1607 - regularization_loss: 0.0000e+00 - total_loss: 1.1607 - val_mean_squared_error: 1.1035 - val_mean_absolute_error: 0.8726 - val_loss: 1.0802 - val_regularization_loss: 0.0000e+00 - val_total_loss: 1.0802\n",
            "Epoch 4/15\n",
            "10/10 [==============================] - 8s 631ms/step - mean_squared_error: 0.9541 - mean_absolute_error: 0.7988 - loss: 0.9459 - regularization_loss: 0.0000e+00 - total_loss: 0.9459 - val_mean_squared_error: 0.9658 - val_mean_absolute_error: 0.7920 - val_loss: 0.9446 - val_regularization_loss: 0.0000e+00 - val_total_loss: 0.9446\n",
            "Epoch 5/15\n",
            "10/10 [==============================] - 6s 361ms/step - mean_squared_error: 0.8256 - mean_absolute_error: 0.7243 - loss: 0.8205 - regularization_loss: 0.0000e+00 - total_loss: 0.8205 - val_mean_squared_error: 0.9155 - val_mean_absolute_error: 0.7643 - val_loss: 0.8964 - val_regularization_loss: 0.0000e+00 - val_total_loss: 0.8964\n",
            "Epoch 6/15\n",
            "10/10 [==============================] - 8s 592ms/step - mean_squared_error: 0.7410 - mean_absolute_error: 0.6838 - loss: 0.7357 - regularization_loss: 0.0000e+00 - total_loss: 0.7357 - val_mean_squared_error: 0.8836 - val_mean_absolute_error: 0.7504 - val_loss: 0.8661 - val_regularization_loss: 0.0000e+00 - val_total_loss: 0.8661\n",
            "Epoch 7/15\n",
            "10/10 [==============================] - 6s 380ms/step - mean_squared_error: 0.6643 - mean_absolute_error: 0.6470 - loss: 0.6588 - regularization_loss: 0.0000e+00 - total_loss: 0.6588 - val_mean_squared_error: 0.8642 - val_mean_absolute_error: 0.7422 - val_loss: 0.8474 - val_regularization_loss: 0.0000e+00 - val_total_loss: 0.8474\n",
            "Epoch 8/15\n",
            "10/10 [==============================] - 8s 605ms/step - mean_squared_error: 0.5971 - mean_absolute_error: 0.6127 - loss: 0.5914 - regularization_loss: 0.0000e+00 - total_loss: 0.5914 - val_mean_squared_error: 0.8544 - val_mean_absolute_error: 0.7369 - val_loss: 0.8378 - val_regularization_loss: 0.0000e+00 - val_total_loss: 0.8378\n",
            "Epoch 9/15\n",
            "10/10 [==============================] - 6s 374ms/step - mean_squared_error: 0.5365 - mean_absolute_error: 0.5798 - loss: 0.5306 - regularization_loss: 0.0000e+00 - total_loss: 0.5306 - val_mean_squared_error: 0.8514 - val_mean_absolute_error: 0.7341 - val_loss: 0.8352 - val_regularization_loss: 0.0000e+00 - val_total_loss: 0.8352\n",
            "Epoch 10/15\n",
            "10/10 [==============================] - 7s 370ms/step - mean_squared_error: 0.4812 - mean_absolute_error: 0.5482 - loss: 0.4752 - regularization_loss: 0.0000e+00 - total_loss: 0.4752 - val_mean_squared_error: 0.8537 - val_mean_absolute_error: 0.7338 - val_loss: 0.8381 - val_regularization_loss: 0.0000e+00 - val_total_loss: 0.8381\n",
            "Epoch 11/15\n",
            "10/10 [==============================] - 7s 427ms/step - mean_squared_error: 0.4312 - mean_absolute_error: 0.5184 - loss: 0.4253 - regularization_loss: 0.0000e+00 - total_loss: 0.4253 - val_mean_squared_error: 0.8603 - val_mean_absolute_error: 0.7355 - val_loss: 0.8454 - val_regularization_loss: 0.0000e+00 - val_total_loss: 0.8454\n",
            "Epoch 12/15\n",
            "10/10 [==============================] - 8s 374ms/step - mean_squared_error: 0.3868 - mean_absolute_error: 0.4904 - loss: 0.3810 - regularization_loss: 0.0000e+00 - total_loss: 0.3810 - val_mean_squared_error: 0.8699 - val_mean_absolute_error: 0.7385 - val_loss: 0.8555 - val_regularization_loss: 0.0000e+00 - val_total_loss: 0.8555\n",
            "Epoch 13/15\n",
            "10/10 [==============================] - 6s 372ms/step - mean_squared_error: 0.3479 - mean_absolute_error: 0.4644 - loss: 0.3423 - regularization_loss: 0.0000e+00 - total_loss: 0.3423 - val_mean_squared_error: 0.8812 - val_mean_absolute_error: 0.7424 - val_loss: 0.8674 - val_regularization_loss: 0.0000e+00 - val_total_loss: 0.8674\n",
            "Epoch 14/15\n",
            "10/10 [==============================] - 8s 457ms/step - mean_squared_error: 0.3140 - mean_absolute_error: 0.4406 - loss: 0.3086 - regularization_loss: 0.0000e+00 - total_loss: 0.3086 - val_mean_squared_error: 0.8937 - val_mean_absolute_error: 0.7468 - val_loss: 0.8802 - val_regularization_loss: 0.0000e+00 - val_total_loss: 0.8802\n"
          ]
        }
      ],
      "source": [
        "#Entrainez le modèle\n",
        "history_TwoTowers_bias = Model_2.fit(train, epochs=15, validation_data=valid, callbacks=my_callbacks)"
      ]
    },
    {
      "cell_type": "code",
      "execution_count": 37,
      "metadata": {
        "colab": {
          "base_uri": "https://localhost:8080/",
          "height": 541
        },
        "id": "K8jgK6TUnBvu",
        "outputId": "221b158b-e0a6-46fa-b7a3-505130cc5f97"
      },
      "outputs": [
        {
          "output_type": "display_data",
          "data": {
            "text/plain": [
              "<Figure size 640x480 with 1 Axes>"
            ],
            "image/png": "[encoded data removed]"
          },
          "metadata": {}
        },
        {
          "output_type": "stream",
          "name": "stdout",
          "text": [
            "\n",
            "\n",
            "Erreur MSE méthode Two Tower : 0.8514\n",
            "Erreur MAE methode Two Tower : 0.7341\n"
          ]
        }
      ],
      "source": [
        "#Affichez les résultats\n",
        "plot_history(history_TwoTowers_bias, model_name=\"Two Towers with bias\")"
      ]
    },
    {
      "cell_type": "markdown",
      "metadata": {
        "id": "b_LOAaTOk1x5"
      },
      "source": [
        "## Approche Auto Encodeur"
      ]
    },
    {
      "cell_type": "markdown",
      "metadata": {
        "id": "Y05_OiL2neTB"
      },
      "source": [
        "### 3.1 Prétraitement et Formattage des données\n",
        "Notre objectif est de présenter nos données à notre modèle de la manière suivante :<br>\n",
        "\n",
        "![1_0q_TOVjd1gkGXHXmffq3bA.webp](data:image/webp;base64,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)\n",
        "\n",
        "En effet, les données doivent représenter sous la forme d'un tableau à deux dimensions où chaque ligne représente un utilisateur. Les colonnes sont divisées selon les catégories suivantes :\n",
        "\n",
        "-\tLes n premières colonnes se rapportent à n films pour lesquels un utilisateur a attribué une note. Si l'utilisateur n'a pas évalué le film, la colonne contiendra la valeur 0\n",
        "-\tLes n colonnes suivantes représentent le nombre de genres. Nous élaborons ici une recommandation de films que l'utilisateur est susceptible de regarder. Par conséquent, la cellule correspondant à l'utilisateur 1 et au genre 1 représente le nombre de films que l'utilisateur 1 a évalués à plus de 3 ou plus pour la catégorie du genre 1. Il existe de nombreux types de règles que nous pouvons appliquer, mais cette règle pour a été choisie pour déterminer le goût de l'utilisateur pour un genre particulier.\n",
        "-\tLes dernières lignes indiquent les attributs de l'utilisateur, tels que son sexe, son âge et son métier."
      ]
    },
    {
      "cell_type": "code",
      "execution_count": null,
      "metadata": {
        "colab": {
          "base_uri": "https://localhost:8080/",
          "height": 206
        },
        "id": "n6uR3DR6YrvG",
        "outputId": "8d1e45f2-e5b7-4edf-e219-41b9dd722904"
      },
      "outputs": [
        {
          "data": {
            "text/html": [
              "\n",
              "  <div id=\"df-c933eeb8-3497-443c-ac52-4c6918c0b995\">\n",
              "    <div class=\"colab-df-container\">\n",
              "      <div>\n",
              "<style scoped>\n",
              "    .dataframe tbody tr th:only-of-type {\n",
              "        vertical-align: middle;\n",
              "    }\n",
              "\n",
              "    .dataframe tbody tr th {\n",
              "        vertical-align: top;\n",
              "    }\n",
              "\n",
              "    .dataframe thead th {\n",
              "        text-align: right;\n",
              "    }\n",
              "</style>\n",
              "<table border=\"1\" class=\"dataframe\">\n",
              "  <thead>\n",
              "    <tr style=\"text-align: right;\">\n",
              "      <th></th>\n",
              "      <th>id</th>\n",
              "      <th>age</th>\n",
              "      <th>female_user</th>\n",
              "      <th>male_user</th>\n",
              "      <th>job</th>\n",
              "    </tr>\n",
              "  </thead>\n",
              "  <tbody>\n",
              "    <tr>\n",
              "      <th>0</th>\n",
              "      <td>1</td>\n",
              "      <td>24</td>\n",
              "      <td>0</td>\n",
              "      <td>1</td>\n",
              "      <td>0</td>\n",
              "    </tr>\n",
              "    <tr>\n",
              "      <th>1</th>\n",
              "      <td>2</td>\n",
              "      <td>53</td>\n",
              "      <td>1</td>\n",
              "      <td>0</td>\n",
              "      <td>1</td>\n",
              "    </tr>\n",
              "    <tr>\n",
              "      <th>2</th>\n",
              "      <td>3</td>\n",
              "      <td>23</td>\n",
              "      <td>0</td>\n",
              "      <td>1</td>\n",
              "      <td>2</td>\n",
              "    </tr>\n",
              "    <tr>\n",
              "      <th>3</th>\n",
              "      <td>4</td>\n",
              "      <td>24</td>\n",
              "      <td>0</td>\n",
              "      <td>1</td>\n",
              "      <td>0</td>\n",
              "    </tr>\n",
              "    <tr>\n",
              "      <th>4</th>\n",
              "      <td>5</td>\n",
              "      <td>33</td>\n",
              "      <td>1</td>\n",
              "      <td>0</td>\n",
              "      <td>1</td>\n",
              "    </tr>\n",
              "  </tbody>\n",
              "</table>\n",
              "</div>\n",
              "      <button class=\"colab-df-convert\" onclick=\"convertToInteractive('df-c933eeb8-3497-443c-ac52-4c6918c0b995')\"\n",
              "              title=\"Convert this dataframe to an interactive table.\"\n",
              "              style=\"display:none;\">\n",
              "        \n",
              "  <svg xmlns=\"http://www.w3.org/2000/svg\" height=\"24px\"viewBox=\"0 0 24 24\"\n",
              "       width=\"24px\">\n",
              "    <path d=\"M0 0h24v24H0V0z\" fill=\"none\"/>\n",
              "    <path d=\"M18.56 5.44l.94 2.06.94-2.06 2.06-.94-2.06-.94-.94-2.06-.94 2.06-2.06.94zm-11 1L8.5 8.5l.94-2.06 2.06-.94-2.06-.94L8.5 2.5l-.94 2.06-2.06.94zm10 10l.94 2.06.94-2.06 2.06-.94-2.06-.94-.94-2.06-.94 2.06-2.06.94z\"/><path d=\"M17.41 7.96l-1.37-1.37c-.4-.4-.92-.59-1.43-.59-.52 0-1.04.2-1.43.59L10.3 9.45l-7.72 7.72c-.78.78-.78 2.05 0 2.83L4 21.41c.39.39.9.59 1.41.59.51 0 1.02-.2 1.41-.59l7.78-7.78 2.81-2.81c.8-.78.8-2.07 0-2.86zM5.41 20L4 18.59l7.72-7.72 1.47 1.35L5.41 20z\"/>\n",
              "  </svg>\n",
              "      </button>\n",
              "      \n",
              "  <style>\n",
              "    .colab-df-container {\n",
              "      display:flex;\n",
              "      flex-wrap:wrap;\n",
              "      gap: 12px;\n",
              "    }\n",
              "\n",
              "    .colab-df-convert {\n",
              "      background-color: #E8F0FE;\n",
              "      border: none;\n",
              "      border-radius: 50%;\n",
              "      cursor: pointer;\n",
              "      display: none;\n",
              "      fill: #1967D2;\n",
              "      height: 32px;\n",
              "      padding: 0 0 0 0;\n",
              "      width: 32px;\n",
              "    }\n",
              "\n",
              "    .colab-df-convert:hover {\n",
              "      background-color: #E2EBFA;\n",
              "      box-shadow: 0px 1px 2px rgba(60, 64, 67, 0.3), 0px 1px 3px 1px rgba(60, 64, 67, 0.15);\n",
              "      fill: #174EA6;\n",
              "    }\n",
              "\n",
              "    [theme=dark] .colab-df-convert {\n",
              "      background-color: #3B4455;\n",
              "      fill: #D2E3FC;\n",
              "    }\n",
              "\n",
              "    [theme=dark] .colab-df-convert:hover {\n",
              "      background-color: #434B5C;\n",
              "      box-shadow: 0px 1px 3px 1px rgba(0, 0, 0, 0.15);\n",
              "      filter: drop-shadow(0px 1px 2px rgba(0, 0, 0, 0.3));\n",
              "      fill: #FFFFFF;\n",
              "    }\n",
              "  </style>\n",
              "\n",
              "      <script>\n",
              "        const buttonEl =\n",
              "          document.querySelector('#df-c933eeb8-3497-443c-ac52-4c6918c0b995 button.colab-df-convert');\n",
              "        buttonEl.style.display =\n",
              "          google.colab.kernel.accessAllowed ? 'block' : 'none';\n",
              "\n",
              "        async function convertToInteractive(key) {\n",
              "          const element = document.querySelector('#df-c933eeb8-3497-443c-ac52-4c6918c0b995');\n",
              "          const dataTable =\n",
              "            await google.colab.kernel.invokeFunction('convertToInteractive',\n",
              "                                                     [key], {});\n",
              "          if (!dataTable) return;\n",
              "\n",
              "          const docLinkHtml = 'Like what you see? Visit the ' +\n",
              "            '<a target=\"_blank\" href=https://colab.research.google.com/notebooks/data_table.ipynb>data table notebook</a>'\n",
              "            + ' to learn more about interactive tables.';\n",
              "          element.innerHTML = '';\n",
              "          dataTable['output_type'] = 'display_data';\n",
              "          await google.colab.output.renderOutput(dataTable, element);\n",
              "          const docLink = document.createElement('div');\n",
              "          docLink.innerHTML = docLinkHtml;\n",
              "          element.appendChild(docLink);\n",
              "        }\n",
              "      </script>\n",
              "    </div>\n",
              "  </div>\n",
              "  "
            ],
            "text/plain": [
              "   id    age   female_user  male_user  job\n",
              "0    1     24            0          1    0\n",
              "1    2     53            1          0    1\n",
              "2    3     23            0          1    2\n",
              "3    4     24            0          1    0\n",
              "4    5     33            1          0    1"
            ]
          },
          "execution_count": 29,
          "metadata": {},
          "output_type": "execute_result"
        }
      ],
      "source": [
        "job_mapper = {job:i for i, job in enumerate(user_feat[' job '].unique())}\n",
        "\n",
        "user_feat_p = user_feat.copy()\n",
        "user_feat_p['female_user'] = (user_feat[' gender '] == 'F').astype(int)\n",
        "user_feat_p['male_user']   = (user_feat[' gender '] == 'M').astype(int)\n",
        "user_feat_p['job']         = user_feat[' job '].apply(lambda x: job_mapper[x])\n",
        "user_feat_p.drop(columns=[' job ', ' zip', ' gender '], inplace=True)\n",
        "user_feat_p.head()"
      ]
    },
    {
      "cell_type": "code",
      "execution_count": null,
      "metadata": {
        "colab": {
          "base_uri": "https://localhost:8080/",
          "height": 250
        },
        "id": "p55PcRubZDOU",
        "outputId": "d7bf2d32-6ef3-4eb6-9884-c39ef38d9e70"
      },
      "outputs": [
        {
          "data": {
            "text/html": [
              "\n",
              "  <div id=\"df-957556f6-a60d-4e0b-af89-0c542c6d9319\">\n",
              "    <div class=\"colab-df-container\">\n",
              "      <div>\n",
              "<style scoped>\n",
              "    .dataframe tbody tr th:only-of-type {\n",
              "        vertical-align: middle;\n",
              "    }\n",
              "\n",
              "    .dataframe tbody tr th {\n",
              "        vertical-align: top;\n",
              "    }\n",
              "\n",
              "    .dataframe thead th {\n",
              "        text-align: right;\n",
              "    }\n",
              "</style>\n",
              "<table border=\"1\" class=\"dataframe\">\n",
              "  <thead>\n",
              "    <tr style=\"text-align: right;\">\n",
              "      <th></th>\n",
              "      <th>movie id</th>\n",
              "      <th>unknown</th>\n",
              "      <th>Action</th>\n",
              "      <th>Adventure</th>\n",
              "      <th>Animation</th>\n",
              "      <th>Children's</th>\n",
              "      <th>Comedy</th>\n",
              "      <th>Crime</th>\n",
              "      <th>Documentary</th>\n",
              "      <th>Drama</th>\n",
              "      <th>Fantasy</th>\n",
              "      <th>Film-Noir</th>\n",
              "      <th>Horror</th>\n",
              "      <th>Musical</th>\n",
              "      <th>Mystery</th>\n",
              "      <th>Romance</th>\n",
              "      <th>Sci-Fi</th>\n",
              "      <th>Thriller</th>\n",
              "      <th>War</th>\n",
              "      <th>Western</th>\n",
              "    </tr>\n",
              "  </thead>\n",
              "  <tbody>\n",
              "    <tr>\n",
              "      <th>0</th>\n",
              "      <td>1</td>\n",
              "      <td>0</td>\n",
              "      <td>0</td>\n",
              "      <td>0</td>\n",
              "      <td>1</td>\n",
              "      <td>1</td>\n",
              "      <td>1</td>\n",
              "      <td>0</td>\n",
              "      <td>0</td>\n",
              "      <td>0</td>\n",
              "      <td>0</td>\n",
              "      <td>0</td>\n",
              "      <td>0</td>\n",
              "      <td>0</td>\n",
              "      <td>0</td>\n",
              "      <td>0</td>\n",
              "      <td>0</td>\n",
              "      <td>0</td>\n",
              "      <td>0</td>\n",
              "      <td>0</td>\n",
              "    </tr>\n",
              "    <tr>\n",
              "      <th>1</th>\n",
              "      <td>2</td>\n",
              "      <td>0</td>\n",
              "      <td>1</td>\n",
              "      <td>1</td>\n",
              "      <td>0</td>\n",
              "      <td>0</td>\n",
              "      <td>0</td>\n",
              "      <td>0</td>\n",
              "      <td>0</td>\n",
              "      <td>0</td>\n",
              "      <td>0</td>\n",
              "      <td>0</td>\n",
              "      <td>0</td>\n",
              "      <td>0</td>\n",
              "      <td>0</td>\n",
              "      <td>0</td>\n",
              "      <td>0</td>\n",
              "      <td>1</td>\n",
              "      <td>0</td>\n",
              "      <td>0</td>\n",
              "    </tr>\n",
              "    <tr>\n",
              "      <th>2</th>\n",
              "      <td>3</td>\n",
              "      <td>0</td>\n",
              "      <td>0</td>\n",
              "      <td>0</td>\n",
              "      <td>0</td>\n",
              "      <td>0</td>\n",
              "      <td>0</td>\n",
              "      <td>0</td>\n",
              "      <td>0</td>\n",
              "      <td>0</td>\n",
              "      <td>0</td>\n",
              "      <td>0</td>\n",
              "      <td>0</td>\n",
              "      <td>0</td>\n",
              "      <td>0</td>\n",
              "      <td>0</td>\n",
              "      <td>0</td>\n",
              "      <td>1</td>\n",
              "      <td>0</td>\n",
              "      <td>0</td>\n",
              "    </tr>\n",
              "    <tr>\n",
              "      <th>3</th>\n",
              "      <td>4</td>\n",
              "      <td>0</td>\n",
              "      <td>1</td>\n",
              "      <td>0</td>\n",
              "      <td>0</td>\n",
              "      <td>0</td>\n",
              "      <td>1</td>\n",
              "      <td>0</td>\n",
              "      <td>0</td>\n",
              "      <td>1</td>\n",
              "      <td>0</td>\n",
              "      <td>0</td>\n",
              "      <td>0</td>\n",
              "      <td>0</td>\n",
              "      <td>0</td>\n",
              "      <td>0</td>\n",
              "      <td>0</td>\n",
              "      <td>0</td>\n",
              "      <td>0</td>\n",
              "      <td>0</td>\n",
              "    </tr>\n",
              "    <tr>\n",
              "      <th>4</th>\n",
              "      <td>5</td>\n",
              "      <td>0</td>\n",
              "      <td>0</td>\n",
              "      <td>0</td>\n",
              "      <td>0</td>\n",
              "      <td>0</td>\n",
              "      <td>0</td>\n",
              "      <td>1</td>\n",
              "      <td>0</td>\n",
              "      <td>1</td>\n",
              "      <td>0</td>\n",
              "      <td>0</td>\n",
              "      <td>0</td>\n",
              "      <td>0</td>\n",
              "      <td>0</td>\n",
              "      <td>0</td>\n",
              "      <td>0</td>\n",
              "      <td>1</td>\n",
              "      <td>0</td>\n",
              "      <td>0</td>\n",
              "    </tr>\n",
              "  </tbody>\n",
              "</table>\n",
              "</div>\n",
              "      <button class=\"colab-df-convert\" onclick=\"convertToInteractive('df-957556f6-a60d-4e0b-af89-0c542c6d9319')\"\n",
              "              title=\"Convert this dataframe to an interactive table.\"\n",
              "              style=\"display:none;\">\n",
              "        \n",
              "  <svg xmlns=\"http://www.w3.org/2000/svg\" height=\"24px\"viewBox=\"0 0 24 24\"\n",
              "       width=\"24px\">\n",
              "    <path d=\"M0 0h24v24H0V0z\" fill=\"none\"/>\n",
              "    <path d=\"M18.56 5.44l.94 2.06.94-2.06 2.06-.94-2.06-.94-.94-2.06-.94 2.06-2.06.94zm-11 1L8.5 8.5l.94-2.06 2.06-.94-2.06-.94L8.5 2.5l-.94 2.06-2.06.94zm10 10l.94 2.06.94-2.06 2.06-.94-2.06-.94-.94-2.06-.94 2.06-2.06.94z\"/><path d=\"M17.41 7.96l-1.37-1.37c-.4-.4-.92-.59-1.43-.59-.52 0-1.04.2-1.43.59L10.3 9.45l-7.72 7.72c-.78.78-.78 2.05 0 2.83L4 21.41c.39.39.9.59 1.41.59.51 0 1.02-.2 1.41-.59l7.78-7.78 2.81-2.81c.8-.78.8-2.07 0-2.86zM5.41 20L4 18.59l7.72-7.72 1.47 1.35L5.41 20z\"/>\n",
              "  </svg>\n",
              "      </button>\n",
              "      \n",
              "  <style>\n",
              "    .colab-df-container {\n",
              "      display:flex;\n",
              "      flex-wrap:wrap;\n",
              "      gap: 12px;\n",
              "    }\n",
              "\n",
              "    .colab-df-convert {\n",
              "      background-color: #E8F0FE;\n",
              "      border: none;\n",
              "      border-radius: 50%;\n",
              "      cursor: pointer;\n",
              "      display: none;\n",
              "      fill: #1967D2;\n",
              "      height: 32px;\n",
              "      padding: 0 0 0 0;\n",
              "      width: 32px;\n",
              "    }\n",
              "\n",
              "    .colab-df-convert:hover {\n",
              "      background-color: #E2EBFA;\n",
              "      box-shadow: 0px 1px 2px rgba(60, 64, 67, 0.3), 0px 1px 3px 1px rgba(60, 64, 67, 0.15);\n",
              "      fill: #174EA6;\n",
              "    }\n",
              "\n",
              "    [theme=dark] .colab-df-convert {\n",
              "      background-color: #3B4455;\n",
              "      fill: #D2E3FC;\n",
              "    }\n",
              "\n",
              "    [theme=dark] .colab-df-convert:hover {\n",
              "      background-color: #434B5C;\n",
              "      box-shadow: 0px 1px 3px 1px rgba(0, 0, 0, 0.15);\n",
              "      filter: drop-shadow(0px 1px 2px rgba(0, 0, 0, 0.3));\n",
              "      fill: #FFFFFF;\n",
              "    }\n",
              "  </style>\n",
              "\n",
              "      <script>\n",
              "        const buttonEl =\n",
              "          document.querySelector('#df-957556f6-a60d-4e0b-af89-0c542c6d9319 button.colab-df-convert');\n",
              "        buttonEl.style.display =\n",
              "          google.colab.kernel.accessAllowed ? 'block' : 'none';\n",
              "\n",
              "        async function convertToInteractive(key) {\n",
              "          const element = document.querySelector('#df-957556f6-a60d-4e0b-af89-0c542c6d9319');\n",
              "          const dataTable =\n",
              "            await google.colab.kernel.invokeFunction('convertToInteractive',\n",
              "                                                     [key], {});\n",
              "          if (!dataTable) return;\n",
              "\n",
              "          const docLinkHtml = 'Like what you see? Visit the ' +\n",
              "            '<a target=\"_blank\" href=https://colab.research.google.com/notebooks/data_table.ipynb>data table notebook</a>'\n",
              "            + ' to learn more about interactive tables.';\n",
              "          element.innerHTML = '';\n",
              "          dataTable['output_type'] = 'display_data';\n",
              "          await google.colab.output.renderOutput(dataTable, element);\n",
              "          const docLink = document.createElement('div');\n",
              "          docLink.innerHTML = docLinkHtml;\n",
              "          element.appendChild(docLink);\n",
              "        }\n",
              "      </script>\n",
              "    </div>\n",
              "  </div>\n",
              "  "
            ],
            "text/plain": [
              "   movie id    unknown    Action    Adventure    Animation    Children's   \\\n",
              "0          1          0         0            0            1             1   \n",
              "1          2          0         1            1            0             0   \n",
              "2          3          0         0            0            0             0   \n",
              "3          4          0         1            0            0             0   \n",
              "4          5          0         0            0            0             0   \n",
              "\n",
              "    Comedy    Crime    Documentary    Drama    Fantasy    Film-Noir   \\\n",
              "0         1        0              0        0          0            0   \n",
              "1         0        0              0        0          0            0   \n",
              "2         0        0              0        0          0            0   \n",
              "3         1        0              0        1          0            0   \n",
              "4         0        1              0        1          0            0   \n",
              "\n",
              "    Horror    Musical    Mystery    Romance    Sci-Fi    Thriller    War   \\\n",
              "0         0          0          0          0         0           0      0   \n",
              "1         0          0          0          0         0           1      0   \n",
              "2         0          0          0          0         0           1      0   \n",
              "3         0          0          0          0         0           0      0   \n",
              "4         0          0          0          0         0           1      0   \n",
              "\n",
              "    Western  \n",
              "0         0  \n",
              "1         0  \n",
              "2         0  \n",
              "3         0  \n",
              "4         0  "
            ]
          },
          "execution_count": 30,
          "metadata": {},
          "output_type": "execute_result"
        }
      ],
      "source": [
        "movie_feat_p = movie_feat.copy()\n",
        "movie_feat_p.drop(columns = movie_feat_p.columns[1:5], inplace=True)\n",
        "movie_feat_p.head()"
      ]
    },
    {
      "cell_type": "code",
      "execution_count": null,
      "metadata": {
        "id": "zdrUMhGzNhIw"
      },
      "outputs": [],
      "source": [
        "NAFILL = 0\n",
        "\n",
        "def AddAdditionalFeatures(matrix, df, movie_df, user_feat_ext_df=None, add_additional_data=True):\n",
        "    if(type(user_feat_ext_df) == type(None)):\n",
        "        three_or_above = df[df.user_rating >=3]\n",
        "\n",
        "        user_genre = three_or_above.merge(movie_df, left_on=votes_df.columns[1], right_on=movie_df.columns[0])\n",
        "        user_genre = user_genre[[user_genre.columns[0]] + list(user_genre.columns[5:])].groupby('user_id').sum()\n",
        "        user_feat_ext_df = user_feat_p.merge(user_genre, left_on=user_feat_p.columns[0], right_on=user_genre.index)\n",
        "        user_feat_ext_df.drop(columns=[user_genre.columns[0]], inplace=True)\n",
        "    \n",
        "    if(add_additional_data):\n",
        "        matrix = matrix.merge(user_feat_ext_df, left_on=matrix.index, right_on=user_feat_ext_df.columns[0])\n",
        "        matrix.drop(columns=[user_feat_ext_df.columns[0]], inplace=True)\n",
        "    \n",
        "    matrix.fillna(NAFILL, inplace=True)\n",
        "\n",
        "    return matrix, user_feat_ext_df"
      ]
    },
    {
      "cell_type": "code",
      "execution_count": null,
      "metadata": {
        "id": "_hwmUhXuTtkq"
      },
      "outputs": [],
      "source": [
        "from sklearn.model_selection import train_test_split\n",
        "\n",
        "test_split  = 0.1\n",
        "valid_split = 0.1\n",
        "votes_train_df, votes_test_df  = train_test_split(votes_df, test_size=test_split)\n",
        "votes_train_df, votes_valid_df = train_test_split(votes_train_df, test_size=valid_split *  votes_df.shape[0] / votes_train_df.shape[0])"
      ]
    },
    {
      "cell_type": "code",
      "execution_count": null,
      "metadata": {
        "colab": {
          "base_uri": "https://localhost:8080/",
          "height": 405
        },
        "id": "IjAxyE0jlY4Q",
        "outputId": "a7b90dc5-de21-4033-aff4-0671e80a582e"
      },
      "outputs": [
        {
          "name": "stdout",
          "output_type": "stream",
          "text": [
            "(919, 1682)\n",
            "(919, 1682)\n"
          ]
        },
        {
          "name": "stderr",
          "output_type": "stream",
          "text": [
            "<ipython-input-33-267463b026ce>:1: FutureWarning: In a future version of pandas all arguments of DataFrame.pivot will be keyword-only.\n",
            "  train_mat = votes_train_df.pivot(votes_train_df.columns[0], votes_train_df.columns[1], votes_train_df.columns[2])\n",
            "<ipython-input-33-267463b026ce>:2: FutureWarning: In a future version of pandas all arguments of DataFrame.pivot will be keyword-only.\n",
            "  valid_mat = votes_valid_df.pivot(votes_train_df.columns[0], votes_train_df.columns[1], votes_train_df.columns[2])\n",
            "<ipython-input-33-267463b026ce>:3: FutureWarning: In a future version of pandas all arguments of DataFrame.pivot will be keyword-only.\n",
            "  test_mat  = votes_test_df.pivot(votes_train_df.columns[0], votes_train_df.columns[1], votes_train_df.columns[2])\n"
          ]
        },
        {
          "data": {
            "text/html": [
              "\n",
              "  <div id=\"df-27c08dc7-3727-474f-a8f8-1cfb8c3249a1\">\n",
              "    <div class=\"colab-df-container\">\n",
              "      <div>\n",
              "<style scoped>\n",
              "    .dataframe tbody tr th:only-of-type {\n",
              "        vertical-align: middle;\n",
              "    }\n",
              "\n",
              "    .dataframe tbody tr th {\n",
              "        vertical-align: top;\n",
              "    }\n",
              "\n",
              "    .dataframe thead th {\n",
              "        text-align: right;\n",
              "    }\n",
              "</style>\n",
              "<table border=\"1\" class=\"dataframe\">\n",
              "  <thead>\n",
              "    <tr style=\"text-align: right;\">\n",
              "      <th>movie_id</th>\n",
              "      <th>1.0</th>\n",
              "      <th>2.0</th>\n",
              "      <th>3.0</th>\n",
              "      <th>4.0</th>\n",
              "      <th>5.0</th>\n",
              "      <th>6.0</th>\n",
              "      <th>7.0</th>\n",
              "      <th>8.0</th>\n",
              "      <th>9.0</th>\n",
              "      <th>10.0</th>\n",
              "      <th>...</th>\n",
              "      <th>1673.0</th>\n",
              "      <th>1674.0</th>\n",
              "      <th>1675.0</th>\n",
              "      <th>1676.0</th>\n",
              "      <th>1677.0</th>\n",
              "      <th>1678.0</th>\n",
              "      <th>1679.0</th>\n",
              "      <th>1680.0</th>\n",
              "      <th>1681.0</th>\n",
              "      <th>1682.0</th>\n",
              "    </tr>\n",
              "    <tr>\n",
              "      <th>user_id</th>\n",
              "      <th></th>\n",
              "      <th></th>\n",
              "      <th></th>\n",
              "      <th></th>\n",
              "      <th></th>\n",
              "      <th></th>\n",
              "      <th></th>\n",
              "      <th></th>\n",
              "      <th></th>\n",
              "      <th></th>\n",
              "      <th></th>\n",
              "      <th></th>\n",
              "      <th></th>\n",
              "      <th></th>\n",
              "      <th></th>\n",
              "      <th></th>\n",
              "      <th></th>\n",
              "      <th></th>\n",
              "      <th></th>\n",
              "      <th></th>\n",
              "      <th></th>\n",
              "    </tr>\n",
              "  </thead>\n",
              "  <tbody>\n",
              "    <tr>\n",
              "      <th>1.0</th>\n",
              "      <td>5.0</td>\n",
              "      <td>NaN</td>\n",
              "      <td>4.0</td>\n",
              "      <td>3.0</td>\n",
              "      <td>3.0</td>\n",
              "      <td>5.0</td>\n",
              "      <td>4.0</td>\n",
              "      <td>1.0</td>\n",
              "      <td>5.0</td>\n",
              "      <td>3.0</td>\n",
              "      <td>...</td>\n",
              "      <td>NaN</td>\n",
              "      <td>NaN</td>\n",
              "      <td>NaN</td>\n",
              "      <td>NaN</td>\n",
              "      <td>NaN</td>\n",
              "      <td>NaN</td>\n",
              "      <td>NaN</td>\n",
              "      <td>NaN</td>\n",
              "      <td>NaN</td>\n",
              "      <td>NaN</td>\n",
              "    </tr>\n",
              "    <tr>\n",
              "      <th>2.0</th>\n",
              "      <td>NaN</td>\n",
              "      <td>NaN</td>\n",
              "      <td>NaN</td>\n",
              "      <td>NaN</td>\n",
              "      <td>NaN</td>\n",
              "      <td>NaN</td>\n",
              "      <td>NaN</td>\n",
              "      <td>NaN</td>\n",
              "      <td>NaN</td>\n",
              "      <td>2.0</td>\n",
              "      <td>...</td>\n",
              "      <td>NaN</td>\n",
              "      <td>NaN</td>\n",
              "      <td>NaN</td>\n",
              "      <td>NaN</td>\n",
              "      <td>NaN</td>\n",
              "      <td>NaN</td>\n",
              "      <td>NaN</td>\n",
              "      <td>NaN</td>\n",
              "      <td>NaN</td>\n",
              "      <td>NaN</td>\n",
              "    </tr>\n",
              "    <tr>\n",
              "      <th>3.0</th>\n",
              "      <td>NaN</td>\n",
              "      <td>NaN</td>\n",
              "      <td>NaN</td>\n",
              "      <td>NaN</td>\n",
              "      <td>NaN</td>\n",
              "      <td>NaN</td>\n",
              "      <td>NaN</td>\n",
              "      <td>NaN</td>\n",
              "      <td>NaN</td>\n",
              "      <td>NaN</td>\n",
              "      <td>...</td>\n",
              "      <td>NaN</td>\n",
              "      <td>NaN</td>\n",
              "      <td>NaN</td>\n",
              "      <td>NaN</td>\n",
              "      <td>NaN</td>\n",
              "      <td>NaN</td>\n",
              "      <td>NaN</td>\n",
              "      <td>NaN</td>\n",
              "      <td>NaN</td>\n",
              "      <td>NaN</td>\n",
              "    </tr>\n",
              "    <tr>\n",
              "      <th>4.0</th>\n",
              "      <td>NaN</td>\n",
              "      <td>NaN</td>\n",
              "      <td>NaN</td>\n",
              "      <td>NaN</td>\n",
              "      <td>NaN</td>\n",
              "      <td>NaN</td>\n",
              "      <td>NaN</td>\n",
              "      <td>NaN</td>\n",
              "      <td>NaN</td>\n",
              "      <td>NaN</td>\n",
              "      <td>...</td>\n",
              "      <td>NaN</td>\n",
              "      <td>NaN</td>\n",
              "      <td>NaN</td>\n",
              "      <td>NaN</td>\n",
              "      <td>NaN</td>\n",
              "      <td>NaN</td>\n",
              "      <td>NaN</td>\n",
              "      <td>NaN</td>\n",
              "      <td>NaN</td>\n",
              "      <td>NaN</td>\n",
              "    </tr>\n",
              "    <tr>\n",
              "      <th>5.0</th>\n",
              "      <td>4.0</td>\n",
              "      <td>3.0</td>\n",
              "      <td>NaN</td>\n",
              "      <td>NaN</td>\n",
              "      <td>NaN</td>\n",
              "      <td>NaN</td>\n",
              "      <td>NaN</td>\n",
              "      <td>NaN</td>\n",
              "      <td>NaN</td>\n",
              "      <td>NaN</td>\n",
              "      <td>...</td>\n",
              "      <td>NaN</td>\n",
              "      <td>NaN</td>\n",
              "      <td>NaN</td>\n",
              "      <td>NaN</td>\n",
              "      <td>NaN</td>\n",
              "      <td>NaN</td>\n",
              "      <td>NaN</td>\n",
              "      <td>NaN</td>\n",
              "      <td>NaN</td>\n",
              "      <td>NaN</td>\n",
              "    </tr>\n",
              "  </tbody>\n",
              "</table>\n",
              "<p>5 rows × 1682 columns</p>\n",
              "</div>\n",
              "      <button class=\"colab-df-convert\" onclick=\"convertToInteractive('df-27c08dc7-3727-474f-a8f8-1cfb8c3249a1')\"\n",
              "              title=\"Convert this dataframe to an interactive table.\"\n",
              "              style=\"display:none;\">\n",
              "        \n",
              "  <svg xmlns=\"http://www.w3.org/2000/svg\" height=\"24px\"viewBox=\"0 0 24 24\"\n",
              "       width=\"24px\">\n",
              "    <path d=\"M0 0h24v24H0V0z\" fill=\"none\"/>\n",
              "    <path d=\"M18.56 5.44l.94 2.06.94-2.06 2.06-.94-2.06-.94-.94-2.06-.94 2.06-2.06.94zm-11 1L8.5 8.5l.94-2.06 2.06-.94-2.06-.94L8.5 2.5l-.94 2.06-2.06.94zm10 10l.94 2.06.94-2.06 2.06-.94-2.06-.94-.94-2.06-.94 2.06-2.06.94z\"/><path d=\"M17.41 7.96l-1.37-1.37c-.4-.4-.92-.59-1.43-.59-.52 0-1.04.2-1.43.59L10.3 9.45l-7.72 7.72c-.78.78-.78 2.05 0 2.83L4 21.41c.39.39.9.59 1.41.59.51 0 1.02-.2 1.41-.59l7.78-7.78 2.81-2.81c.8-.78.8-2.07 0-2.86zM5.41 20L4 18.59l7.72-7.72 1.47 1.35L5.41 20z\"/>\n",
              "  </svg>\n",
              "      </button>\n",
              "      \n",
              "  <style>\n",
              "    .colab-df-container {\n",
              "      display:flex;\n",
              "      flex-wrap:wrap;\n",
              "      gap: 12px;\n",
              "    }\n",
              "\n",
              "    .colab-df-convert {\n",
              "      background-color: #E8F0FE;\n",
              "      border: none;\n",
              "      border-radius: 50%;\n",
              "      cursor: pointer;\n",
              "      display: none;\n",
              "      fill: #1967D2;\n",
              "      height: 32px;\n",
              "      padding: 0 0 0 0;\n",
              "      width: 32px;\n",
              "    }\n",
              "\n",
              "    .colab-df-convert:hover {\n",
              "      background-color: #E2EBFA;\n",
              "      box-shadow: 0px 1px 2px rgba(60, 64, 67, 0.3), 0px 1px 3px 1px rgba(60, 64, 67, 0.15);\n",
              "      fill: #174EA6;\n",
              "    }\n",
              "\n",
              "    [theme=dark] .colab-df-convert {\n",
              "      background-color: #3B4455;\n",
              "      fill: #D2E3FC;\n",
              "    }\n",
              "\n",
              "    [theme=dark] .colab-df-convert:hover {\n",
              "      background-color: #434B5C;\n",
              "      box-shadow: 0px 1px 3px 1px rgba(0, 0, 0, 0.15);\n",
              "      filter: drop-shadow(0px 1px 2px rgba(0, 0, 0, 0.3));\n",
              "      fill: #FFFFFF;\n",
              "    }\n",
              "  </style>\n",
              "\n",
              "      <script>\n",
              "        const buttonEl =\n",
              "          document.querySelector('#df-27c08dc7-3727-474f-a8f8-1cfb8c3249a1 button.colab-df-convert');\n",
              "        buttonEl.style.display =\n",
              "          google.colab.kernel.accessAllowed ? 'block' : 'none';\n",
              "\n",
              "        async function convertToInteractive(key) {\n",
              "          const element = document.querySelector('#df-27c08dc7-3727-474f-a8f8-1cfb8c3249a1');\n",
              "          const dataTable =\n",
              "            await google.colab.kernel.invokeFunction('convertToInteractive',\n",
              "                                                     [key], {});\n",
              "          if (!dataTable) return;\n",
              "\n",
              "          const docLinkHtml = 'Like what you see? Visit the ' +\n",
              "            '<a target=\"_blank\" href=https://colab.research.google.com/notebooks/data_table.ipynb>data table notebook</a>'\n",
              "            + ' to learn more about interactive tables.';\n",
              "          element.innerHTML = '';\n",
              "          dataTable['output_type'] = 'display_data';\n",
              "          await google.colab.output.renderOutput(dataTable, element);\n",
              "          const docLink = document.createElement('div');\n",
              "          docLink.innerHTML = docLinkHtml;\n",
              "          element.appendChild(docLink);\n",
              "        }\n",
              "      </script>\n",
              "    </div>\n",
              "  </div>\n",
              "  "
            ],
            "text/plain": [
              "movie_id  1.0     2.0     3.0     4.0     5.0     6.0     7.0     8.0     \\\n",
              "user_id                                                                    \n",
              "1.0          5.0     NaN     4.0     3.0     3.0     5.0     4.0     1.0   \n",
              "2.0          NaN     NaN     NaN     NaN     NaN     NaN     NaN     NaN   \n",
              "3.0          NaN     NaN     NaN     NaN     NaN     NaN     NaN     NaN   \n",
              "4.0          NaN     NaN     NaN     NaN     NaN     NaN     NaN     NaN   \n",
              "5.0          4.0     3.0     NaN     NaN     NaN     NaN     NaN     NaN   \n",
              "\n",
              "movie_id  9.0     10.0    ...  1673.0  1674.0  1675.0  1676.0  1677.0  1678.0  \\\n",
              "user_id                   ...                                                   \n",
              "1.0          5.0     3.0  ...     NaN     NaN     NaN     NaN     NaN     NaN   \n",
              "2.0          NaN     2.0  ...     NaN     NaN     NaN     NaN     NaN     NaN   \n",
              "3.0          NaN     NaN  ...     NaN     NaN     NaN     NaN     NaN     NaN   \n",
              "4.0          NaN     NaN  ...     NaN     NaN     NaN     NaN     NaN     NaN   \n",
              "5.0          NaN     NaN  ...     NaN     NaN     NaN     NaN     NaN     NaN   \n",
              "\n",
              "movie_id  1679.0  1680.0  1681.0  1682.0  \n",
              "user_id                                   \n",
              "1.0          NaN     NaN     NaN     NaN  \n",
              "2.0          NaN     NaN     NaN     NaN  \n",
              "3.0          NaN     NaN     NaN     NaN  \n",
              "4.0          NaN     NaN     NaN     NaN  \n",
              "5.0          NaN     NaN     NaN     NaN  \n",
              "\n",
              "[5 rows x 1682 columns]"
            ]
          },
          "execution_count": 33,
          "metadata": {},
          "output_type": "execute_result"
        }
      ],
      "source": [
        "train_mat = votes_train_df.pivot(votes_train_df.columns[0], votes_train_df.columns[1], votes_train_df.columns[2])\n",
        "valid_mat = votes_valid_df.pivot(votes_train_df.columns[0], votes_train_df.columns[1], votes_train_df.columns[2])\n",
        "test_mat  = votes_test_df.pivot(votes_train_df.columns[0], votes_train_df.columns[1], votes_train_df.columns[2])\n",
        "\n",
        "col_list = list(set().union(train_mat.columns, valid_mat.columns, test_mat.columns))\n",
        "col_list.sort()\n",
        "\n",
        "train_mat = train_mat.reindex(columns=col_list, fill_value=np.nan)\n",
        "valid_mat = valid_mat.reindex(columns=col_list, fill_value=np.nan)\n",
        "test_mat  = test_mat.reindex(columns=col_list, fill_value=np.nan)\n",
        "\n",
        "print(valid_mat.shape)\n",
        "print(test_mat.shape)\n",
        "train_mat.head()"
      ]
    },
    {
      "cell_type": "code",
      "execution_count": null,
      "metadata": {
        "colab": {
          "base_uri": "https://localhost:8080/",
          "height": 235
        },
        "id": "Bo-sFIe2liB1",
        "outputId": "f23874ef-fccf-451a-c80d-6e8ad7ff3a7c"
      },
      "outputs": [
        {
          "data": {
            "text/html": [
              "\n",
              "  <div id=\"df-24fbf9e2-5435-42f4-acb6-ed5edcdece7c\">\n",
              "    <div class=\"colab-df-container\">\n",
              "      <div>\n",
              "<style scoped>\n",
              "    .dataframe tbody tr th:only-of-type {\n",
              "        vertical-align: middle;\n",
              "    }\n",
              "\n",
              "    .dataframe tbody tr th {\n",
              "        vertical-align: top;\n",
              "    }\n",
              "\n",
              "    .dataframe thead th {\n",
              "        text-align: right;\n",
              "    }\n",
              "</style>\n",
              "<table border=\"1\" class=\"dataframe\">\n",
              "  <thead>\n",
              "    <tr style=\"text-align: right;\">\n",
              "      <th></th>\n",
              "      <th>1.0</th>\n",
              "      <th>2.0</th>\n",
              "      <th>3.0</th>\n",
              "      <th>4.0</th>\n",
              "      <th>5.0</th>\n",
              "      <th>6.0</th>\n",
              "      <th>7.0</th>\n",
              "      <th>8.0</th>\n",
              "      <th>9.0</th>\n",
              "      <th>10.0</th>\n",
              "      <th>...</th>\n",
              "      <th>Fantasy</th>\n",
              "      <th>Film-Noir</th>\n",
              "      <th>Horror</th>\n",
              "      <th>Musical</th>\n",
              "      <th>Mystery</th>\n",
              "      <th>Romance</th>\n",
              "      <th>Sci-Fi</th>\n",
              "      <th>Thriller</th>\n",
              "      <th>War</th>\n",
              "      <th>Western</th>\n",
              "    </tr>\n",
              "  </thead>\n",
              "  <tbody>\n",
              "    <tr>\n",
              "      <th>0</th>\n",
              "      <td>0.0</td>\n",
              "      <td>3.0</td>\n",
              "      <td>0.0</td>\n",
              "      <td>0.0</td>\n",
              "      <td>0.0</td>\n",
              "      <td>0.0</td>\n",
              "      <td>0.0</td>\n",
              "      <td>0.0</td>\n",
              "      <td>0.0</td>\n",
              "      <td>0.0</td>\n",
              "      <td>...</td>\n",
              "      <td>2</td>\n",
              "      <td>1</td>\n",
              "      <td>9</td>\n",
              "      <td>8</td>\n",
              "      <td>3</td>\n",
              "      <td>32</td>\n",
              "      <td>36</td>\n",
              "      <td>34</td>\n",
              "      <td>20</td>\n",
              "      <td>5</td>\n",
              "    </tr>\n",
              "    <tr>\n",
              "      <th>1</th>\n",
              "      <td>0.0</td>\n",
              "      <td>0.0</td>\n",
              "      <td>0.0</td>\n",
              "      <td>0.0</td>\n",
              "      <td>0.0</td>\n",
              "      <td>0.0</td>\n",
              "      <td>0.0</td>\n",
              "      <td>0.0</td>\n",
              "      <td>0.0</td>\n",
              "      <td>0.0</td>\n",
              "      <td>...</td>\n",
              "      <td>1</td>\n",
              "      <td>1</td>\n",
              "      <td>1</td>\n",
              "      <td>1</td>\n",
              "      <td>2</td>\n",
              "      <td>10</td>\n",
              "      <td>4</td>\n",
              "      <td>9</td>\n",
              "      <td>1</td>\n",
              "      <td>0</td>\n",
              "    </tr>\n",
              "    <tr>\n",
              "      <th>2</th>\n",
              "      <td>0.0</td>\n",
              "      <td>0.0</td>\n",
              "      <td>0.0</td>\n",
              "      <td>0.0</td>\n",
              "      <td>0.0</td>\n",
              "      <td>0.0</td>\n",
              "      <td>0.0</td>\n",
              "      <td>0.0</td>\n",
              "      <td>0.0</td>\n",
              "      <td>0.0</td>\n",
              "      <td>...</td>\n",
              "      <td>0</td>\n",
              "      <td>1</td>\n",
              "      <td>3</td>\n",
              "      <td>0</td>\n",
              "      <td>7</td>\n",
              "      <td>3</td>\n",
              "      <td>3</td>\n",
              "      <td>7</td>\n",
              "      <td>1</td>\n",
              "      <td>0</td>\n",
              "    </tr>\n",
              "    <tr>\n",
              "      <th>3</th>\n",
              "      <td>0.0</td>\n",
              "      <td>0.0</td>\n",
              "      <td>0.0</td>\n",
              "      <td>0.0</td>\n",
              "      <td>0.0</td>\n",
              "      <td>0.0</td>\n",
              "      <td>0.0</td>\n",
              "      <td>0.0</td>\n",
              "      <td>0.0</td>\n",
              "      <td>0.0</td>\n",
              "      <td>...</td>\n",
              "      <td>0</td>\n",
              "      <td>0</td>\n",
              "      <td>1</td>\n",
              "      <td>1</td>\n",
              "      <td>4</td>\n",
              "      <td>3</td>\n",
              "      <td>3</td>\n",
              "      <td>7</td>\n",
              "      <td>1</td>\n",
              "      <td>0</td>\n",
              "    </tr>\n",
              "    <tr>\n",
              "      <th>4</th>\n",
              "      <td>0.0</td>\n",
              "      <td>0.0</td>\n",
              "      <td>0.0</td>\n",
              "      <td>0.0</td>\n",
              "      <td>0.0</td>\n",
              "      <td>0.0</td>\n",
              "      <td>0.0</td>\n",
              "      <td>0.0</td>\n",
              "      <td>0.0</td>\n",
              "      <td>0.0</td>\n",
              "      <td>...</td>\n",
              "      <td>1</td>\n",
              "      <td>1</td>\n",
              "      <td>12</td>\n",
              "      <td>7</td>\n",
              "      <td>2</td>\n",
              "      <td>6</td>\n",
              "      <td>24</td>\n",
              "      <td>12</td>\n",
              "      <td>7</td>\n",
              "      <td>1</td>\n",
              "    </tr>\n",
              "  </tbody>\n",
              "</table>\n",
              "<p>5 rows × 1704 columns</p>\n",
              "</div>\n",
              "      <button class=\"colab-df-convert\" onclick=\"convertToInteractive('df-24fbf9e2-5435-42f4-acb6-ed5edcdece7c')\"\n",
              "              title=\"Convert this dataframe to an interactive table.\"\n",
              "              style=\"display:none;\">\n",
              "        \n",
              "  <svg xmlns=\"http://www.w3.org/2000/svg\" height=\"24px\"viewBox=\"0 0 24 24\"\n",
              "       width=\"24px\">\n",
              "    <path d=\"M0 0h24v24H0V0z\" fill=\"none\"/>\n",
              "    <path d=\"M18.56 5.44l.94 2.06.94-2.06 2.06-.94-2.06-.94-.94-2.06-.94 2.06-2.06.94zm-11 1L8.5 8.5l.94-2.06 2.06-.94-2.06-.94L8.5 2.5l-.94 2.06-2.06.94zm10 10l.94 2.06.94-2.06 2.06-.94-2.06-.94-.94-2.06-.94 2.06-2.06.94z\"/><path d=\"M17.41 7.96l-1.37-1.37c-.4-.4-.92-.59-1.43-.59-.52 0-1.04.2-1.43.59L10.3 9.45l-7.72 7.72c-.78.78-.78 2.05 0 2.83L4 21.41c.39.39.9.59 1.41.59.51 0 1.02-.2 1.41-.59l7.78-7.78 2.81-2.81c.8-.78.8-2.07 0-2.86zM5.41 20L4 18.59l7.72-7.72 1.47 1.35L5.41 20z\"/>\n",
              "  </svg>\n",
              "      </button>\n",
              "      \n",
              "  <style>\n",
              "    .colab-df-container {\n",
              "      display:flex;\n",
              "      flex-wrap:wrap;\n",
              "      gap: 12px;\n",
              "    }\n",
              "\n",
              "    .colab-df-convert {\n",
              "      background-color: #E8F0FE;\n",
              "      border: none;\n",
              "      border-radius: 50%;\n",
              "      cursor: pointer;\n",
              "      display: none;\n",
              "      fill: #1967D2;\n",
              "      height: 32px;\n",
              "      padding: 0 0 0 0;\n",
              "      width: 32px;\n",
              "    }\n",
              "\n",
              "    .colab-df-convert:hover {\n",
              "      background-color: #E2EBFA;\n",
              "      box-shadow: 0px 1px 2px rgba(60, 64, 67, 0.3), 0px 1px 3px 1px rgba(60, 64, 67, 0.15);\n",
              "      fill: #174EA6;\n",
              "    }\n",
              "\n",
              "    [theme=dark] .colab-df-convert {\n",
              "      background-color: #3B4455;\n",
              "      fill: #D2E3FC;\n",
              "    }\n",
              "\n",
              "    [theme=dark] .colab-df-convert:hover {\n",
              "      background-color: #434B5C;\n",
              "      box-shadow: 0px 1px 3px 1px rgba(0, 0, 0, 0.15);\n",
              "      filter: drop-shadow(0px 1px 2px rgba(0, 0, 0, 0.3));\n",
              "      fill: #FFFFFF;\n",
              "    }\n",
              "  </style>\n",
              "\n",
              "      <script>\n",
              "        const buttonEl =\n",
              "          document.querySelector('#df-24fbf9e2-5435-42f4-acb6-ed5edcdece7c button.colab-df-convert');\n",
              "        buttonEl.style.display =\n",
              "          google.colab.kernel.accessAllowed ? 'block' : 'none';\n",
              "\n",
              "        async function convertToInteractive(key) {\n",
              "          const element = document.querySelector('#df-24fbf9e2-5435-42f4-acb6-ed5edcdece7c');\n",
              "          const dataTable =\n",
              "            await google.colab.kernel.invokeFunction('convertToInteractive',\n",
              "                                                     [key], {});\n",
              "          if (!dataTable) return;\n",
              "\n",
              "          const docLinkHtml = 'Like what you see? Visit the ' +\n",
              "            '<a target=\"_blank\" href=https://colab.research.google.com/notebooks/data_table.ipynb>data table notebook</a>'\n",
              "            + ' to learn more about interactive tables.';\n",
              "          element.innerHTML = '';\n",
              "          dataTable['output_type'] = 'display_data';\n",
              "          await google.colab.output.renderOutput(dataTable, element);\n",
              "          const docLink = document.createElement('div');\n",
              "          docLink.innerHTML = docLinkHtml;\n",
              "          element.appendChild(docLink);\n",
              "        }\n",
              "      </script>\n",
              "    </div>\n",
              "  </div>\n",
              "  "
            ],
            "text/plain": [
              "   1.0  2.0  3.0  4.0  5.0  6.0  7.0  8.0  9.0  10.0  ...   Fantasy   \\\n",
              "0  0.0  3.0  0.0  0.0  0.0  0.0  0.0  0.0  0.0   0.0  ...          2   \n",
              "1  0.0  0.0  0.0  0.0  0.0  0.0  0.0  0.0  0.0   0.0  ...          1   \n",
              "2  0.0  0.0  0.0  0.0  0.0  0.0  0.0  0.0  0.0   0.0  ...          0   \n",
              "3  0.0  0.0  0.0  0.0  0.0  0.0  0.0  0.0  0.0   0.0  ...          0   \n",
              "4  0.0  0.0  0.0  0.0  0.0  0.0  0.0  0.0  0.0   0.0  ...          1   \n",
              "\n",
              "    Film-Noir    Horror    Musical    Mystery    Romance    Sci-Fi   \\\n",
              "0            1         9          8          3         32        36   \n",
              "1            1         1          1          2         10         4   \n",
              "2            1         3          0          7          3         3   \n",
              "3            0         1          1          4          3         3   \n",
              "4            1        12          7          2          6        24   \n",
              "\n",
              "    Thriller    War    Western  \n",
              "0          34     20         5  \n",
              "1           9      1         0  \n",
              "2           7      1         0  \n",
              "3           7      1         0  \n",
              "4          12      7         1  \n",
              "\n",
              "[5 rows x 1704 columns]"
            ]
          },
          "execution_count": 34,
          "metadata": {},
          "output_type": "execute_result"
        }
      ],
      "source": [
        "add_feats = True\n",
        "train_mat, user_feat_ext_df = AddAdditionalFeatures(train_mat, votes_train_df, movie_feat_p, add_additional_data=add_feats)\n",
        "# user_feat_ext_df = None\n",
        "valid_mat, _ = AddAdditionalFeatures(valid_mat, votes_valid_df, movie_feat_p, user_feat_ext_df, add_additional_data=add_feats)\n",
        "test_mat, _  = AddAdditionalFeatures(test_mat, votes_test_df, movie_feat_p, user_feat_ext_df, add_additional_data=add_feats)\n",
        "test_mat.head()"
      ]
    },
    {
      "cell_type": "code",
      "execution_count": null,
      "metadata": {
        "colab": {
          "base_uri": "https://localhost:8080/"
        },
        "id": "pZ9dLEx4mirw",
        "outputId": "5522efea-66ca-4b87-ae0f-0c82d0bff1c6"
      },
      "outputs": [
        {
          "data": {
            "text/plain": [
              "Index([' age ', 'female_user', 'male_user', 'job', ' Action ', ' Adventure ',\n",
              "       ' Animation ', ' Children's ', ' Comedy ', ' Crime ', ' Documentary ',\n",
              "       ' Drama ', ' Fantasy ', ' Film-Noir ', ' Horror ', ' Musical ',\n",
              "       ' Mystery ', ' Romance ', ' Sci-Fi ', ' Thriller ', ' War ',\n",
              "       ' Western'],\n",
              "      dtype='object')"
            ]
          },
          "execution_count": 35,
          "metadata": {},
          "output_type": "execute_result"
        }
      ],
      "source": [
        "train_mat.columns[1682:]"
      ]
    },
    {
      "cell_type": "markdown",
      "metadata": {
        "id": "SBOPJaZQiWKU"
      },
      "source": [
        "### 3.2 Définition du Modèle Autoencodeur (5pts)\n",
        "\n",
        "L'architecture du modèle ressemble à ceci :<br>\n",
        "![1_5j8KAPbFLbgzT3BWvrs75g.webp](data:image/webp;base64,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)\n",
        "\n",
        "Notre réseau a **4 couches denses**, et pour nombre d'unités $[20, 10, 20, \\text{output_length}]$ où `output_length` est la dimension de la sortie. Avant les trois premières couches denses, on s'attend à avoir un module `dropout` avec une probabilité `p`. <br>\n",
        "Sur ce [lien](https://keras.io/api/layers/core_layers/dense/) vous aurez une bonne explication de ce que c'est une couche dense."
      ]
    },
    {
      "cell_type": "code",
      "execution_count": null,
      "metadata": {
        "id": "0MOpbOzDiYts"
      },
      "outputs": [],
      "source": [
        "from tensorflow.keras import layers, Sequential\n",
        "\n",
        "class SAE(tf.keras.Model):\n",
        "    def __init__(self, input_len, interval_pred_mode, output_len=None, min_vote=1, max_vote=5, p=0, name=\"MovieLensAutoEncoder\", *args, **kwargs):\n",
        "        super(SAE, self).__init__(*args, **kwargs)\n",
        "        \n",
        "        model = Sequential(name=name)\n",
        "\n",
        "        model.add(tf.keras.Input(shape=(input_len,)))\n",
        "        model.add(layers.Dropout(rate = p))\n",
        "        model.add(layers.Dense(20, activation=\"sigmoid\", name=\"DenseLayer1\"))\n",
        "        model.add(layers.Dropout(rate = p))\n",
        "        model.add(layers.Dense(10, activation=\"sigmoid\", name=\"DenseLayer2\"))\n",
        "        model.add(layers.Dropout(rate = p))\n",
        "        model.add(layers.Dense(20, activation=\"sigmoid\", name=\"DenseLayer3\"))\n",
        "        if(interval_pred_mode and output_len):\n",
        "            model.add(layers.Dense(output_len, activation=\"sigmoid\", name=\"DenseLayer4\")) \n",
        "        else:\n",
        "            model.add(layers.Dense(input_len, name=\"DenseLayer4\"))\n",
        "\n",
        "        self.model = model\n",
        "        self.min_vote = min_vote\n",
        "        self.max_vote = max_vote\n",
        "        self.interval_pred_mode = interval_pred_mode\n",
        "\n",
        "    def summary(self):\n",
        "        self.model.summary()\n",
        "\n",
        "    def call(self, x, training=None):\n",
        "        if(self.interval_pred_mode):\n",
        "            return self.model(x, training) * (self.max_vote-self.min_vote) + self.min_vote\n",
        "        else:\n",
        "            return self.model(x, training)"
      ]
    },
    {
      "cell_type": "markdown",
      "metadata": {
        "id": "q6zYqUQhEPb9"
      },
      "source": [
        "### 3.3 Définition de la Perte de notre Modèle (5 pts)\n",
        "Nous ne pouvons pas exactement utiliser la perte standard puisque nous cherchons à prédire que les votes et non pas l'entièreté du vecteur d'entrée. Aussi, il ne faut pas prendre en compte les valeurs manquantes dans la perte.\n",
        "- Codez une perte qui prend en compte ces deux informations !"
      ]
    },
    {
      "cell_type": "code",
      "execution_count": null,
      "metadata": {
        "id": "dZvTT4tKngQH"
      },
      "outputs": [],
      "source": [
        "class ModifiedRootMeanSquarredError(tf.keras.losses.MeanSquaredError):\n",
        "    def __init__(self, nb_movie, *args, **kwargs):\n",
        "        super(ModifiedRootMeanSquarredError, self).__init__(*args, **kwargs)\n",
        "        self.nb_movie = nb_movie\n",
        "\n",
        "    def __call__(self, y_true, y_pred, sample_weight=None):\n",
        "        y_true = y_true[:, :self.nb_movie]\n",
        "        y_pred = y_pred[:, :self.nb_movie]\n",
        "        return tf.math.sqrt(super(ModifiedRootMeanSquarredError, self).__call__(y_true[y_true > 0], y_pred[y_true > 0], sample_weight))"
      ]
    },
    {
      "cell_type": "markdown",
      "metadata": {
        "id": "EKCVUUjfGmPR"
      },
      "source": [
        "### 3.3 Entrainement du Modèle"
      ]
    },
    {
      "cell_type": "code",
      "execution_count": null,
      "metadata": {
        "id": "iP9SAuAe0AbW"
      },
      "outputs": [],
      "source": [
        "## Hyper Params\n",
        "BATCH_SIZE = 64\n",
        "SHUFFLE_BUFFER_SIZE = 100\n",
        "\n",
        "## Augment Data:\n",
        "Augmentation = True\n",
        "max_lambda   = 0.1\n",
        "\n",
        "## Initializes datasets\n",
        "train_dataset = tf.data.Dataset.from_tensor_slices((train_mat.to_numpy(), train_mat.to_numpy()))\n",
        "valid_dataset = tf.data.Dataset.from_tensor_slices((valid_mat.to_numpy(), valid_mat.to_numpy()))\n",
        "test_dataset  = tf.data.Dataset.from_tensor_slices((test_mat.to_numpy(), test_mat.to_numpy()))\n",
        "\n",
        "if(Augmentation):\n",
        "    copy = train_mat.copy()\n",
        "    copy = copy.sample(frac=1).reset_index()\n",
        "    copy.drop(columns=['index'],inplace=True)\n",
        "    augmented_mat = train_mat + (train_mat - copy).apply(lambda row : np.random.uniform(low=0.0, high=max_lambda) * row)\n",
        "    augmented_mat[augmented_mat < 1] = 0\n",
        "    augmented_dataset = tf.data.Dataset.from_tensor_slices((augmented_mat.to_numpy(), augmented_mat.to_numpy()))\n",
        "    train_dataset = train_dataset.concatenate(augmented_dataset)"
      ]
    },
    {
      "cell_type": "code",
      "execution_count": null,
      "metadata": {
        "id": "JxsDxLoo0Nns"
      },
      "outputs": [],
      "source": [
        "train_dataset = train_dataset.shuffle(SHUFFLE_BUFFER_SIZE).batch(BATCH_SIZE)\n",
        "valid_dataset = valid_dataset.batch(BATCH_SIZE) \n",
        "test_dataset  = test_dataset.batch(BATCH_SIZE)"
      ]
    },
    {
      "cell_type": "markdown",
      "metadata": {
        "id": "UxHkx8STG5ZO"
      },
      "source": [
        "#### 3.3.1 Entrainez votre modèle en utilisant les hyper paramètres définis ci-dessous (10 pts). \n",
        "Notez qu'il faut **sauvegarder et tester le meilleure modèle sur l'ensemble de test**. Pour sauvegarder le meilleure modèle, vous pouvez utiliser `tf.keras.callbacks.ModelCheckpoint`.<br>\n",
        "Je rappelle le lien ver la documentation de `keras.callbacks` [ici](https://keras.io/api/callbacks/)."
      ]
    },
    {
      "cell_type": "code",
      "execution_count": null,
      "metadata": {
        "colab": {
          "base_uri": "https://localhost:8080/"
        },
        "id": "NeJkjWc3zURn",
        "outputId": "647a75ee-95f1-40f3-e4be-f0d7c809e643"
      },
      "outputs": [
        {
          "name": "stdout",
          "output_type": "stream",
          "text": [
            "Epoch 1/15\n",
            "30/30 [==============================] - 4s 23ms/step - loss: 1.0960 - val_loss: 1.0536\n",
            "Epoch 2/15\n",
            "30/30 [==============================] - 0s 15ms/step - loss: 1.0320 - val_loss: 1.0313\n",
            "Epoch 3/15\n",
            "30/30 [==============================] - 0s 11ms/step - loss: 1.0280 - val_loss: 1.0347\n",
            "Epoch 4/15\n",
            "30/30 [==============================] - 0s 12ms/step - loss: 1.0280 - val_loss: 1.0330\n",
            "Epoch 5/15\n",
            "30/30 [==============================] - 0s 14ms/step - loss: 1.0283 - val_loss: 1.0339\n",
            "Epoch 6/15\n",
            "30/30 [==============================] - 0s 11ms/step - loss: 1.0255 - val_loss: 1.0329\n",
            "Epoch 7/15\n",
            "30/30 [==============================] - 0s 12ms/step - loss: 1.0260 - val_loss: 1.0323\n"
          ]
        }
      ],
      "source": [
        "nb_films = len(votes_df['movie_id'].unique())\n",
        "\n",
        "LR     = 0.005\n",
        "Epochs = 15\n",
        "p      = 0.5\n",
        "interval_pred_mode = True\n",
        "input_len  = train_mat.shape[1]\n",
        "output_len = train_mat.shape[1] # train_mat.shape[1] or nb_films\n",
        "\n",
        "#ToDo\n",
        "my_callbacks = [tf.keras.callbacks.ModelCheckpoint(filepath='/tmp/checkpoint',\n",
        "                  save_weights_only=True,\n",
        "                  monitor='val_loss',\n",
        "                  mode='max',\n",
        "                  save_best_only=True),\n",
        "                tf.keras.callbacks.EarlyStopping(patience=5)]\n",
        "sae = SAE(input_len, interval_pred_mode, output_len, p=p)\n",
        "sae.compile(optimizer=tf.keras.optimizers.Adam(learning_rate=LR), loss=ModifiedRootMeanSquarredError(nb_films))\n",
        "history_sae = sae.fit(train_dataset, epochs=Epochs, validation_data=valid_dataset, callbacks=my_callbacks)"
      ]
    },
    {
      "cell_type": "code",
      "execution_count": null,
      "metadata": {
        "colab": {
          "base_uri": "https://localhost:8080/",
          "height": 524
        },
        "id": "XFC8mfW0ZBjL",
        "outputId": "8bae6ff8-7669-425b-d9dd-3e45a6ae420e"
      },
      "outputs": [
        {
          "data": {
            "image/png": "[encoded data removed]",
            "text/plain": [
              "<Figure size 640x480 with 1 Axes>"
            ]
          },
          "metadata": {},
          "output_type": "display_data"
        },
        {
          "name": "stdout",
          "output_type": "stream",
          "text": [
            "\n",
            "\n",
            "Best RMSE on validation : 1.0313\n"
          ]
        }
      ],
      "source": [
        "plt.plot(history_sae.history['loss'])\n",
        "plt.plot(history_sae.history['val_loss'])\n",
        "plt.title('SAE Model RMSE')\n",
        "plt.ylabel('Custom Loss')\n",
        "plt.xlabel('epoch')\n",
        "plt.legend(['train', 'validation'], loc='best')\n",
        "plt.show()\n",
        "print(\"\\n\\nBest RMSE on validation : {0:.4f}\".format(min(history_sae.history['val_loss'])))"
      ]
    }
  ],
  "metadata": {
    "accelerator": "GPU",
    "colab": {
      "gpuType": "T4",
      "provenance": []
    },
    "gpuClass": "standard",
    "kernelspec": {
      "display_name": "Python 3",
      "name": "python3"
    },
    "language_info": {
      "codemirror_mode": {
        "name": "ipython",
        "version": 3
      },
      "file_extension": ".py",
      "mimetype": "text/x-python",
      "name": "python",
      "nbconvert_exporter": "python",
      "pygments_lexer": "ipython3",
      "version": "3.8.15"
    }
  },
  "nbformat": 4,
  "nbformat_minor": 0
}