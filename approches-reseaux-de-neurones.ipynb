{
  "cells": [
    {
      "cell_type": "markdown",
      "metadata": {
        "id": "Yi8yXoiIwwqL"
      },
      "source": [
        "# Approches hybrides : réseaux de neurones\n",
        "\n",
        "Pierrick DOSSIN  \n",
        "Guillaume RIU "
      ]
    },
    {
      "cell_type": "code",
      "execution_count": 73,
      "metadata": {
        "colab": {
          "base_uri": "https://localhost:8080/"
        },
        "id": "iUJAKyxxAA-h",
        "outputId": "22b07b2d-b9fa-43e4-94a0-8fca0ae43561"
      },
      "outputs": [
        {
          "output_type": "stream",
          "name": "stdout",
          "text": [
            "Looking in indexes: https://pypi.org/simple, https://us-python.pkg.dev/colab-wheels/public/simple/\n",
            "Requirement already satisfied: tfds-nightly in /usr/local/lib/python3.10/dist-packages (4.9.2.dev202304300044)\n",
            "Requirement already satisfied: click in /usr/local/lib/python3.10/dist-packages (from tfds-nightly) (8.1.3)\n",
            "Requirement already satisfied: array-record in /usr/local/lib/python3.10/dist-packages (from tfds-nightly) (0.2.0)\n",
            "Requirement already satisfied: tqdm in /usr/local/lib/python3.10/dist-packages (from tfds-nightly) (4.65.0)\n",
            "Requirement already satisfied: toml in /usr/local/lib/python3.10/dist-packages (from tfds-nightly) (0.10.2)\n",
            "Collecting protobuf>=3.20\n",
            "  Using cached protobuf-4.22.3-cp37-abi3-manylinux2014_x86_64.whl (302 kB)\n",
            "Requirement already satisfied: numpy in /usr/local/lib/python3.10/dist-packages (from tfds-nightly) (1.22.4)\n",
            "Requirement already satisfied: promise in /usr/local/lib/python3.10/dist-packages (from tfds-nightly) (2.3)\n",
            "Requirement already satisfied: etils[enp,epath]>=0.9.0 in /usr/local/lib/python3.10/dist-packages (from tfds-nightly) (1.2.0)\n",
            "Requirement already satisfied: absl-py in /usr/local/lib/python3.10/dist-packages (from tfds-nightly) (1.4.0)\n",
            "Requirement already satisfied: tensorflow-metadata in /usr/local/lib/python3.10/dist-packages (from tfds-nightly) (1.13.1)\n",
            "Requirement already satisfied: wrapt in /usr/local/lib/python3.10/dist-packages (from tfds-nightly) (1.14.1)\n",
            "Requirement already satisfied: psutil in /usr/local/lib/python3.10/dist-packages (from tfds-nightly) (5.9.5)\n",
            "Requirement already satisfied: requests>=2.19.0 in /usr/local/lib/python3.10/dist-packages (from tfds-nightly) (2.27.1)\n",
            "Requirement already satisfied: dm-tree in /usr/local/lib/python3.10/dist-packages (from tfds-nightly) (0.1.8)\n",
            "Requirement already satisfied: termcolor in /usr/local/lib/python3.10/dist-packages (from tfds-nightly) (2.3.0)\n",
            "Requirement already satisfied: importlib_resources in /usr/local/lib/python3.10/dist-packages (from etils[enp,epath]>=0.9.0->tfds-nightly) (5.12.0)\n",
            "Requirement already satisfied: typing_extensions in /usr/local/lib/python3.10/dist-packages (from etils[enp,epath]>=0.9.0->tfds-nightly) (4.5.0)\n",
            "Requirement already satisfied: zipp in /usr/local/lib/python3.10/dist-packages (from etils[enp,epath]>=0.9.0->tfds-nightly) (3.15.0)\n",
            "Requirement already satisfied: charset-normalizer~=2.0.0 in /usr/local/lib/python3.10/dist-packages (from requests>=2.19.0->tfds-nightly) (2.0.12)\n",
            "Requirement already satisfied: urllib3<1.27,>=1.21.1 in /usr/local/lib/python3.10/dist-packages (from requests>=2.19.0->tfds-nightly) (1.26.15)\n",
            "Requirement already satisfied: idna<4,>=2.5 in /usr/local/lib/python3.10/dist-packages (from requests>=2.19.0->tfds-nightly) (3.4)\n",
            "Requirement already satisfied: certifi>=2017.4.17 in /usr/local/lib/python3.10/dist-packages (from requests>=2.19.0->tfds-nightly) (2022.12.7)\n",
            "Requirement already satisfied: six in /usr/local/lib/python3.10/dist-packages (from promise->tfds-nightly) (1.16.0)\n",
            "Requirement already satisfied: googleapis-common-protos<2,>=1.52.0 in /usr/local/lib/python3.10/dist-packages (from tensorflow-metadata->tfds-nightly) (1.59.0)\n",
            "Installing collected packages: protobuf\n",
            "  Attempting uninstall: protobuf\n",
            "    Found existing installation: protobuf 3.19.6\n",
            "    Uninstalling protobuf-3.19.6:\n",
            "      Successfully uninstalled protobuf-3.19.6\n",
            "\u001b[31mERROR: pip's dependency resolver does not currently take into account all the packages that are installed. This behaviour is the source of the following dependency conflicts.\n",
            "tensorflow 2.11.1 requires protobuf<3.20,>=3.9.2, but you have protobuf 4.22.3 which is incompatible.\n",
            "tensorboard 2.11.2 requires protobuf<4,>=3.9.2, but you have protobuf 4.22.3 which is incompatible.\u001b[0m\u001b[31m\n",
            "\u001b[0mSuccessfully installed protobuf-4.22.3\n",
            "\u001b[31mERROR: pip's dependency resolver does not currently take into account all the packages that are installed. This behaviour is the source of the following dependency conflicts.\n",
            "tfds-nightly 4.9.2.dev202304300044 requires protobuf>=3.20, but you have protobuf 3.19.6 which is incompatible.\n",
            "tensorflow-metadata 1.13.1 requires protobuf<5,>=3.20.3, but you have protobuf 3.19.6 which is incompatible.\u001b[0m\u001b[31m\n",
            "\u001b[0m\u001b[31mERROR: Operation cancelled by user\u001b[0m\u001b[31m\n",
            "\u001b[0mTraceback (most recent call last):\n",
            "  File \"/usr/local/lib/python3.10/dist-packages/pip/_internal/cli/base_command.py\", line 160, in exc_logging_wrapper\n",
            "    status = run_func(*args)\n",
            "  File \"/usr/local/lib/python3.10/dist-packages/pip/_internal/cli/req_command.py\", line 241, in wrapper\n",
            "    return func(self, options, args)\n",
            "  File \"/usr/local/lib/python3.10/dist-packages/pip/_internal/commands/install.py\", line 419, in run\n",
            "    requirement_set = resolver.resolve(\n",
            "  File \"/usr/local/lib/python3.10/dist-packages/pip/_internal/resolution/resolvelib/resolver.py\", line 92, in resolve\n",
            "    result = self._result = resolver.resolve(\n",
            "  File \"/usr/local/lib/python3.10/dist-packages/pip/_vendor/resolvelib/resolvers.py\", line 481, in resolve\n",
            "    state = resolution.resolve(requirements, max_rounds=max_rounds)\n",
            "  File \"/usr/local/lib/python3.10/dist-packages/pip/_vendor/resolvelib/resolvers.py\", line 348, in resolve\n",
            "    self._add_to_criteria(self.state.criteria, r, parent=None)\n",
            "  File \"/usr/local/lib/python3.10/dist-packages/pip/_vendor/resolvelib/resolvers.py\", line 172, in _add_to_criteria\n",
            "    if not criterion.candidates:\n",
            "  File \"/usr/local/lib/python3.10/dist-packages/pip/_vendor/resolvelib/structs.py\", line 151, in __bool__\n",
            "    return bool(self._sequence)\n",
            "  File \"/usr/local/lib/python3.10/dist-packages/pip/_internal/resolution/resolvelib/found_candidates.py\", line 155, in __bool__\n",
            "    return any(self)\n",
            "  File \"/usr/local/lib/python3.10/dist-packages/pip/_internal/resolution/resolvelib/found_candidates.py\", line 143, in <genexpr>\n",
            "    return (c for c in iterator if id(c) not in self._incompatible_ids)\n",
            "  File \"/usr/local/lib/python3.10/dist-packages/pip/_internal/resolution/resolvelib/found_candidates.py\", line 90, in _iter_built_with_inserted\n",
            "    for version, func in infos:\n",
            "  File \"/usr/local/lib/python3.10/dist-packages/pip/_internal/resolution/resolvelib/factory.py\", line 279, in iter_index_candidate_infos\n",
            "    result = self._finder.find_best_candidate(\n",
            "  File \"/usr/local/lib/python3.10/dist-packages/pip/_internal/index/package_finder.py\", line 890, in find_best_candidate\n",
            "    candidates = self.find_all_candidates(project_name)\n",
            "  File \"/usr/local/lib/python3.10/dist-packages/pip/_internal/index/package_finder.py\", line 831, in find_all_candidates\n",
            "    page_candidates = list(page_candidates_it)\n",
            "  File \"/usr/local/lib/python3.10/dist-packages/pip/_internal/index/sources.py\", line 134, in page_candidates\n",
            "    yield from self._candidates_from_page(self._link)\n",
            "  File \"/usr/local/lib/python3.10/dist-packages/pip/_internal/index/package_finder.py\", line 791, in process_project_url\n",
            "    index_response = self._link_collector.fetch_response(project_url)\n",
            "  File \"/usr/local/lib/python3.10/dist-packages/pip/_internal/index/collector.py\", line 461, in fetch_response\n",
            "    return _get_index_content(location, session=self.session)\n",
            "  File \"/usr/local/lib/python3.10/dist-packages/pip/_internal/index/collector.py\", line 364, in _get_index_content\n",
            "    resp = _get_simple_response(url, session=session)\n",
            "  File \"/usr/local/lib/python3.10/dist-packages/pip/_internal/index/collector.py\", line 135, in _get_simple_response\n",
            "    resp = session.get(\n",
            "  File \"/usr/local/lib/python3.10/dist-packages/pip/_vendor/requests/sessions.py\", line 600, in get\n",
            "    return self.request(\"GET\", url, **kwargs)\n",
            "  File \"/usr/local/lib/python3.10/dist-packages/pip/_internal/network/session.py\", line 518, in request\n",
            "    return super().request(method, url, *args, **kwargs)\n",
            "  File \"/usr/local/lib/python3.10/dist-packages/pip/_vendor/requests/sessions.py\", line 587, in request\n",
            "    resp = self.send(prep, **send_kwargs)\n",
            "  File \"/usr/local/lib/python3.10/dist-packages/pip/_vendor/requests/sessions.py\", line 701, in send\n",
            "    r = adapter.send(request, **kwargs)\n",
            "  File \"/usr/local/lib/python3.10/dist-packages/pip/_vendor/cachecontrol/adapter.py\", line 57, in send\n",
            "    resp = super(CacheControlAdapter, self).send(request, **kw)\n",
            "  File \"/usr/local/lib/python3.10/dist-packages/pip/_vendor/requests/adapters.py\", line 489, in send\n",
            "    resp = conn.urlopen(\n",
            "  File \"/usr/local/lib/python3.10/dist-packages/pip/_vendor/urllib3/connectionpool.py\", line 703, in urlopen\n",
            "    httplib_response = self._make_request(\n",
            "  File \"/usr/local/lib/python3.10/dist-packages/pip/_vendor/urllib3/connectionpool.py\", line 449, in _make_request\n",
            "    six.raise_from(e, None)\n",
            "  File \"<string>\", line 3, in raise_from\n",
            "  File \"/usr/local/lib/python3.10/dist-packages/pip/_vendor/urllib3/connectionpool.py\", line 444, in _make_request\n",
            "    httplib_response = conn.getresponse()\n",
            "  File \"/usr/lib/python3.10/http/client.py\", line 1375, in getresponse\n",
            "    response.begin()\n",
            "  File \"/usr/lib/python3.10/http/client.py\", line 318, in begin\n",
            "    version, status, reason = self._read_status()\n",
            "  File \"/usr/lib/python3.10/http/client.py\", line 279, in _read_status\n",
            "    line = str(self.fp.readline(_MAXLINE + 1), \"iso-8859-1\")\n",
            "  File \"/usr/lib/python3.10/socket.py\", line 705, in readinto\n",
            "    return self._sock.recv_into(b)\n",
            "  File \"/usr/lib/python3.10/ssl.py\", line 1274, in recv_into\n",
            "    return self.read(nbytes, buffer)\n",
            "  File \"/usr/lib/python3.10/ssl.py\", line 1130, in read\n",
            "    return self._sslobj.read(len, buffer)\n",
            "KeyboardInterrupt\n",
            "\n",
            "During handling of the above exception, another exception occurred:\n",
            "\n",
            "Traceback (most recent call last):\n",
            "  File \"/usr/local/bin/pip3\", line 8, in <module>\n",
            "    sys.exit(main())\n",
            "  File \"/usr/local/lib/python3.10/dist-packages/pip/_internal/cli/main.py\", line 70, in main\n",
            "    return command.main(cmd_args)\n",
            "  File \"/usr/local/lib/python3.10/dist-packages/pip/_internal/cli/base_command.py\", line 101, in main\n",
            "    return self._main(args)\n",
            "  File \"/usr/local/lib/python3.10/dist-packages/pip/_internal/cli/base_command.py\", line 214, in _main\n",
            "    return run(options, args)\n",
            "  File \"/usr/local/lib/python3.10/dist-packages/pip/_internal/cli/base_command.py\", line 198, in exc_logging_wrapper\n",
            "    logger.debug(\"Exception information:\", exc_info=True)\n",
            "  File \"/usr/lib/python3.10/logging/__init__.py\", line 1465, in debug\n",
            "    self._log(DEBUG, msg, args, **kwargs)\n",
            "  File \"/usr/lib/python3.10/logging/__init__.py\", line 1624, in _log\n",
            "    self.handle(record)\n",
            "  File \"/usr/lib/python3.10/logging/__init__.py\", line 1634, in handle\n",
            "    self.callHandlers(record)\n",
            "  File \"/usr/lib/python3.10/logging/__init__.py\", line 1696, in callHandlers\n",
            "    hdlr.handle(record)\n",
            "  File \"/usr/lib/python3.10/logging/__init__.py\", line 968, in handle\n",
            "    self.emit(record)\n",
            "  File \"/usr/lib/python3.10/logging/handlers.py\", line 75, in emit\n",
            "    logging.FileHandler.emit(self, record)\n",
            "  File \"/usr/lib/python3.10/logging/__init__.py\", line 1218, in emit\n",
            "    StreamHandler.emit(self, record)\n",
            "  File \"/usr/lib/python3.10/logging/__init__.py\", line 1100, in emit\n",
            "    msg = self.format(record)\n",
            "  File \"/usr/lib/python3.10/logging/__init__.py\", line 943, in format\n",
            "    return fmt.format(record)\n",
            "  File \"/usr/local/lib/python3.10/dist-packages/pip/_internal/utils/logging.py\", line 112, in format\n",
            "    formatted = super().format(record)\n",
            "  File \"/usr/lib/python3.10/logging/__init__.py\", line 686, in format\n",
            "    record.exc_text = self.formatException(record.exc_info)\n",
            "  File \"/usr/lib/python3.10/logging/__init__.py\", line 636, in formatException\n",
            "    traceback.print_exception(ei[0], ei[1], tb, None, sio)\n",
            "  File \"/usr/lib/python3.10/traceback.py\", line 119, in print_exception\n",
            "    te = TracebackException(type(value), value, tb, limit=limit, compact=True)\n",
            "  File \"/usr/lib/python3.10/traceback.py\", line 502, in __init__\n",
            "    self.stack = StackSummary.extract(\n",
            "  File \"/usr/lib/python3.10/traceback.py\", line 376, in extract\n",
            "    result.append(FrameSummary(\n",
            "  File \"/usr/lib/python3.10/traceback.py\", line 259, in __init__\n",
            "    def __init__(self, filename, lineno, name, *, lookup_line=True,\n",
            "KeyboardInterrupt\n",
            "^C\n"
          ]
        }
      ],
      "source": [
        "!pip install tfds-nightly\n",
        "!pip install -q tensorflow-recommenders\n",
        "!pip install -q --upgrade tensorflow-datasets==4.3\n",
        "!pip install -q scann"
      ]
    },
    {
      "cell_type": "code",
      "execution_count": 74,
      "metadata": {
        "id": "t5Mylp7CACnE"
      },
      "outputs": [],
      "source": [
        "import os\n",
        "import pprint\n",
        "import tempfile\n",
        "\n",
        "from tqdm import tqdm\n",
        "from typing import Dict, Text\n",
        "\n",
        "import numpy as np\n",
        "import pandas as pd\n",
        "import matplotlib.pyplot as plt\n",
        "\n",
        "import tensorflow as tf\n",
        "\n",
        "import tensorflow_recommenders as tfrs\n",
        "from sklearn.model_selection import train_test_split\n",
        "from tensorflow.keras import layers, Sequential\n",
        "from keras.backend import dropout\n",
        "\n",
        "from sklearn.metrics import pairwise_distances\n",
        "from scipy.spatial.distance import cosine\n"
      ]
    },
    {
      "cell_type": "markdown",
      "metadata": {
        "id": "X51rl6S_7uyy"
      },
      "source": [
        "#### Charger les données"
      ]
    },
    {
      "cell_type": "code",
      "execution_count": 114,
      "metadata": {
        "id": "ls5nOB_GcvaB"
      },
      "outputs": [],
      "source": [
        "# Chargement des données\n",
        "movie_features = pd.read_csv('Data/items.csv')\n",
        "user_features  = pd.read_csv('Data/u.csv')\n",
        "votes_df   = pd.read_csv('Data/votes.csv')\n",
        "\n",
        "## Matrice Utilisateur Item\n",
        "MUI = votes_df.pivot(index=\"user.id\", columns=\"item.id\", values=\"rating\").astype('float32')\n",
        "\n",
        "votes_df   = votes_df.rename(columns={'user.id': 'user_id', 'item.id': 'movie_id', 'rating': 'user_rating', 'timestamp': 'timestamp'})\n",
        "votes_tf  = tf.data.Dataset.from_tensor_slices(tf.cast(votes_df.values, tf.float32))\n",
        "\n",
        "# Extraction des attributs\n",
        "votes = votes_tf.map(lambda x: {\"user_id\": tf.strings.as_string(x[0]), \"movie_id\": tf.strings.as_string(x[1]), \"user_rating\": x[2]})"
      ]
    },
    {
      "cell_type": "code",
      "execution_count": 115,
      "metadata": {
        "colab": {
          "base_uri": "https://localhost:8080/"
        },
        "id": "ibyirDH98Wiy",
        "outputId": "213eb0c2-f05b-4a00-d1f9-db3123c6bb12"
      },
      "outputs": [
        {
          "output_type": "stream",
          "name": "stdout",
          "text": [
            "Nombre de films : 1682\n",
            "Nombre d'utilisateurs : 943\n"
          ]
        }
      ],
      "source": [
        "id_films = votes.map(lambda x: x[\"movie_id\"]).batch(1000000)\n",
        "films_unique = np.unique(np.concatenate(list(id_films)))\n",
        "nb_films_unique = films_unique.shape[0]\n",
        "print(f\"Nombre de films : {nb_films_unique}\")\n",
        "\n",
        "id_utilisateurs = votes.map(lambda x: x[\"user_id\"]).batch(1000000)\n",
        "utilisateurs_unique = np.unique(np.concatenate(list(id_utilisateurs)))\n",
        "nb_utilisateurs_unique = utilisateurs_unique.shape[0]\n",
        "print(f\"Nombre d'utilisateurs : {nb_utilisateurs_unique}\")"
      ]
    },
    {
      "cell_type": "markdown",
      "metadata": {
        "id": "yD5AjtAfJhCB"
      },
      "source": [
        "### Métriques MSE et MAE"
      ]
    },
    {
      "cell_type": "code",
      "execution_count": 116,
      "metadata": {
        "id": "wk5le5DAJgUf"
      },
      "outputs": [],
      "source": [
        "task = tfrs.tasks.Ranking(loss = tf.keras.losses.MeanSquaredError(), metrics = [tf.keras.metrics.MeanSquaredError(), tf.keras.metrics.MeanAbsoluteError()])"
      ]
    },
    {
      "cell_type": "markdown",
      "metadata": {
        "id": "uUkFI9X8TA3H"
      },
      "source": [
        "### Facteurs de succès"
      ]
    },
    {
      "cell_type": "code",
      "execution_count": 117,
      "metadata": {
        "id": "v8jp1RiJTA3I"
      },
      "outputs": [],
      "source": [
        "def recommandations_list(votes_predits, nmb_reco):\n",
        "    # liste des meilleurs recommandations n'ayant pas déjà été vues\n",
        "    return np.argsort(np.array(-votes_predits * np.isnan(MUI)))[:,:nmb_reco]"
      ]
    },
    {
      "cell_type": "code",
      "execution_count": 118,
      "metadata": {
        "id": "AyWs78IUTA3I"
      },
      "outputs": [],
      "source": [
        "def diversite(votes_observes, votes_predits, nmb_reco):\n",
        "    diversite = 0\n",
        "    reco = recommandations_list(votes_predits, nmb_reco)\n",
        "    votes_observes = votes_observes.replace(np.nan, 0)\n",
        "    # Matrice des similarités item selon les votes observés\n",
        "    cosine_similarity = 1 - pairwise_distances(votes_observes.T, metric=\"cosine\")\n",
        "    for u in range(votes_observes.shape[0]):\n",
        "        for i in range(nmb_reco):\n",
        "            for j in range(nmb_reco):\n",
        "                if i!= j:\n",
        "                    diversite += cosine_similarity[reco[u][i], reco[u][j]]\n",
        "    diversite /= nmb_reco * (nmb_reco - 1) * votes_observes.shape[0]\n",
        "    return diversite"
      ]
    },
    {
      "cell_type": "code",
      "execution_count": 119,
      "metadata": {
        "id": "kcx8kN2XTA3J"
      },
      "outputs": [],
      "source": [
        "def nouveaute(votes_observes, votes_predits, nmb_reco):\n",
        "    nouveaute = 0\n",
        "    reco = recommandations_list(votes_predits, nmb_reco)\n",
        "    MUI_zero_one = votes_observes.replace(np.nan, 0)\n",
        "    MUI_zero_one[MUI_zero_one > 0] = 1\n",
        "    proportion_visionnage_item = np.nanmean(MUI_zero_one, axis=0)\n",
        "    for u in range(votes_observes.shape[0]):\n",
        "        for i in range(nmb_reco):\n",
        "            nouveaute += -np.log2(proportion_visionnage_item[reco[u][i]])\n",
        "    nouveaute /= nmb_reco * len(votes_observes)\n",
        "    return nouveaute"
      ]
    },
    {
      "cell_type": "code",
      "execution_count": 120,
      "metadata": {
        "id": "XK1sDVjHTA3J"
      },
      "outputs": [],
      "source": [
        "def couverture(votes_observes, votes_predits, nmb_reco):\n",
        "    reco = recommandations_list(votes_predits, nmb_reco)\n",
        "    nb_item_reco = len(np.unique(reco))\n",
        "    nb_item = votes_observes.shape[1]\n",
        "    couverture = nb_item_reco / nb_item\n",
        "    return couverture"
      ]
    },
    {
      "cell_type": "code",
      "execution_count": 121,
      "metadata": {
        "id": "cTqw7VzKTA3K"
      },
      "outputs": [],
      "source": [
        "def utilite(votes_observes, votes_predits, nmb_reco):\n",
        "    # Moyenne des meilleurs recommandations\n",
        "    reco = np.sort(np.array(-votes_predits))[:,:nmb_reco]\n",
        "    return -np.mean(reco)"
      ]
    },
    {
      "cell_type": "code",
      "execution_count": 122,
      "metadata": {
        "id": "jWUE7sf5TA3K"
      },
      "outputs": [],
      "source": [
        "def p(MUI_nan, i, j = None):\n",
        "    if (j==None):\n",
        "        nan = sum(MUI_nan[:,i]) \n",
        "        return (MUI.shape[0] - nan) / MUI.shape[0]\n",
        "    else:\n",
        "        nan = sum(MUI_nan[:,i] * MUI_nan[:,j])\n",
        "        return (MUI.shape[0] - nan) / MUI.shape[0]"
      ]
    },
    {
      "cell_type": "code",
      "execution_count": 123,
      "metadata": {
        "id": "V27X2OC3TA3L"
      },
      "outputs": [],
      "source": [
        "def aime_list(votes_observes, nmb_reco):\n",
        "    MUI_zero_one = votes_observes.replace(np.nan, 0)\n",
        "    return np.argsort(np.array(-MUI_zero_one))[:,:nmb_reco]"
      ]
    },
    {
      "cell_type": "code",
      "execution_count": 124,
      "metadata": {
        "id": "JRkTEPuETA3L"
      },
      "outputs": [],
      "source": [
        "def serendipite(votes_observes, votes_predits, nmb_reco):\n",
        "    MUI_nan = np.array(np.isnan(votes_observes))\n",
        "    reco = recommandations_list(votes_predits, nmb_reco)\n",
        "    aime = aime_list(votes_observes, nmb_reco)\n",
        "    pmi = 0\n",
        "    for u in range(votes_observes.shape[0]):\n",
        "        for i in reco[u]:\n",
        "            for j in aime[u]:\n",
        "                pmi += np.log2(p(MUI_nan, i,j)/(p(MUI_nan, i)*p(MUI_nan, j)))\n",
        "    pmi /= nmb_reco * nmb_reco * votes_observes.shape[0]\n",
        "    return pmi"
      ]
    },
    {
      "cell_type": "code",
      "execution_count": 125,
      "metadata": {
        "id": "JRTXAlyeTA3L"
      },
      "outputs": [],
      "source": [
        "def calcul_facteur(votes_observes, votes_predits, facteur, nmb_reco):\n",
        "    if facteur == \"serendipite\":\n",
        "        return serendipite(votes_observes, votes_predits, nmb_reco)\n",
        "    elif facteur == \"utilite\":\n",
        "        return utilite(votes_observes, votes_predits, nmb_reco)\n",
        "    elif facteur == \"couverture\":\n",
        "        return couverture(votes_observes, votes_predits, nmb_reco)\n",
        "    elif facteur == \"nouveaute\":\n",
        "        return nouveaute(votes_observes, votes_predits, nmb_reco)\n",
        "    elif facteur == \"diversite\":\n",
        "        return diversite(votes_observes, votes_predits, nmb_reco)\n"
      ]
    },
    {
      "cell_type": "code",
      "execution_count": 126,
      "metadata": {
        "id": "DjVKI9T7Q2zf"
      },
      "outputs": [],
      "source": [
        "# Définition des couches de plongement pour les utilisateurs et les films\n",
        "def initialisation_embeddings(embedding_dimension, id_uniques, films_unique):\n",
        "    user_model = tf.keras.Sequential([tf.keras.layers.experimental.preprocessing.StringLookup(vocabulary=id_uniques, mask_token=None),\n",
        "                                    tf.keras.layers.Embedding(len(id_uniques) + 1,# Le +1 représente la constante $c$\n",
        "                                                                embedding_dimension)], name=\"User_Embedding\")\n",
        "\n",
        "    movie_model = tf.keras.Sequential([tf.keras.layers.experimental.preprocessing.StringLookup(vocabulary=films_unique,mask_token=None),\n",
        "                                    tf.keras.layers.Embedding(len(films_unique) + 1, \n",
        "                                                                embedding_dimension)], name=\"Movie_Embedding\")  \n",
        "    return user_model, movie_model"
      ]
    },
    {
      "cell_type": "markdown",
      "metadata": {
        "id": "8wXJezITRCGk"
      },
      "source": [
        "#### Définir les bases de données d'entrainement et de validation (proportion $80\\%-20\\%$)."
      ]
    },
    {
      "cell_type": "code",
      "execution_count": 127,
      "metadata": {
        "id": "0ZI0GidMW9ju"
      },
      "outputs": [],
      "source": [
        "N = len(votes)\n",
        "batch_size = 8192\n",
        "prop = 0.8\n",
        "embedding_dimension = 64\n",
        "train_len  = tf.cast(N * prop, dtype=tf.int64)\n",
        "valid_len   = tf.cast(N - train_len, dtype=tf.int64)\n",
        "\n",
        "tf.random.set_seed(73)\n",
        "train = votes.take(train_len).shuffle(train_len, seed=73, reshuffle_each_iteration=False).batch(batch_size)\n",
        "valid = votes.skip(train_len).take(valid_len).shuffle(valid_len, seed=73, reshuffle_each_iteration=False).batch(batch_size)"
      ]
    },
    {
      "cell_type": "code",
      "source": [
        "# On tire un exemple pour construire le graphe du modèle\n",
        "feature = next(iter(train))"
      ],
      "metadata": {
        "id": "HKuVOOELX6dm"
      },
      "execution_count": 128,
      "outputs": []
    },
    {
      "cell_type": "markdown",
      "metadata": {
        "id": "-J9HUKr2Gf7a"
      },
      "source": [
        "# Modèle Two Tower\n",
        "Nous allons implanter le modèle *Two Tower* afin de prédire les votes de la manière suivante :\n",
        "\n",
        "$$pred_{i,j}= \\sigma(b + biais_{u_i} + biais_{f_j} +E_{u_i}^TE_{f_j}) \\times (M_{vote} - m_{vote}) + m_{vote} $$\n",
        "<br>\n",
        "\n",
        "Où $(E_{u_i}, E_{f_j}) \\in \\mathbb{R}^n \\times \\mathbb{R}^n$ sont respectivement les embeddings de l'utilisateur $i$, $u_i$, et du film $j$, $f_j$.\n",
        "\n",
        "$b \\in \\mathbb{R}$ est la constante qui représente la moyenne. \n",
        "\n",
        "$n \\in \\mathbb{N}$ est la dimension de l'espace latent des utilisateurs et des films.\n",
        "\n",
        "$biais_{u_i} \\in \\mathbb{R}$ est le biais associé à l'utilisateur $u_i$\n",
        "\n",
        "$biais_{f_j} \\in \\mathbb{R}$ le biais associé au film $f_j$. \n",
        "\n",
        "$\\sigma$ est la fonction sigmoïde.\n",
        "\n",
        "$M_{vote}$ et $m_{vote}$ sont respectivement les valeurs maximale et minimale possibles pour les votes."
      ]
    },
    {
      "cell_type": "code",
      "execution_count": 129,
      "metadata": {
        "id": "LRkKTjY_cgRZ"
      },
      "outputs": [],
      "source": [
        "#MovieLensModelWithBias Herite des attributs et des méthodes de MovieLensModel\n",
        "class MovieLensModelWithBias(tfrs.models.Model):\n",
        "\n",
        "  def __init__(self, embedding_dimension, id_uniques, films_unique, task, min_vote=1, max_vote=5):\n",
        "    super().__init__()\n",
        "\n",
        "    self.user_model, self.movie_model = initialisation_embeddings(embedding_dimension, id_uniques, films_unique)\n",
        "    \n",
        "    self.pred = tf.keras.layers.Dot(axes=1)\n",
        "    \n",
        "    self.task: tf.keras.layers.Layer = task\n",
        "\n",
        "    self.min_vote, self.max_vote = min_vote, max_vote\n",
        "\n",
        "    self.user_bias = tf.keras.Sequential([tf.keras.layers.experimental.preprocessing.StringLookup(vocabulary=id_uniques, mask_token=None),\n",
        "                                    tf.keras.layers.Embedding(len(id_uniques) + 1, 1)], name=\"User_Bias\")\n",
        "\n",
        "    self.movie_bias = tf.keras.Sequential([tf.keras.layers.experimental.preprocessing.StringLookup(vocabulary=films_unique, mask_token=None),\n",
        "                                    tf.keras.layers.Embedding(len(films_unique) + 1, 1)], name=\"Movie_Bias\")\n",
        "\n",
        "    self.user_dropout  = tf.keras.layers.Dropout(rate = 0.3, name=\"User_Dropout\")\n",
        "    self.movie_dropout = tf.keras.layers.Dropout(rate = 0.6, name=\"Movie_Dropout\")\n",
        "\n",
        "  def call(self, features):\n",
        "    bias_u = self.user_dropout(self.user_bias(features['user_id']))\n",
        "    bias_i = self.movie_dropout(self.movie_bias(features['movie_id']))\n",
        "    two_tower = self.pred([self.user_model(features['user_id']), self.movie_model(features['movie_id'])])\n",
        "    return tf.math.sigmoid(two_tower + bias_u + bias_i) * (self.max_vote - self.min_vote) + self.min_vote\n",
        "  \n",
        "  def compute_loss(self, features: Dict[Text, tf.Tensor], training=False) -> tf.Tensor:\n",
        "    return self.task(labels=features[\"user_rating\"], predictions=self.call(features))"
      ]
    },
    {
      "cell_type": "code",
      "execution_count": 130,
      "metadata": {
        "colab": {
          "base_uri": "https://localhost:8080/"
        },
        "id": "83ADzoELml6x",
        "outputId": "e8aaa33c-595e-4948-95ad-5db83101c5ea"
      },
      "outputs": [
        {
          "output_type": "stream",
          "name": "stdout",
          "text": [
            "Model: \"movie_lens_model_with_bias_2\"\n",
            "_________________________________________________________________\n",
            " Layer (type)                Output Shape              Param #   \n",
            "=================================================================\n",
            " User_Embedding (Sequential)  (8192, 64)               60416     \n",
            "                                                                 \n",
            " Movie_Embedding (Sequential  (8192, 64)               107712    \n",
            " )                                                               \n",
            "                                                                 \n",
            " dot_2 (Dot)                 multiple                  0         \n",
            "                                                                 \n",
            " ranking_2 (Ranking)         multiple                  0 (unused)\n",
            "                                                                 \n",
            " User_Bias (Sequential)      (8192, 1)                 944       \n",
            "                                                                 \n",
            " Movie_Bias (Sequential)     (8192, 1)                 1683      \n",
            "                                                                 \n",
            " User_Dropout (Dropout)      multiple                  0         \n",
            "                                                                 \n",
            " Movie_Dropout (Dropout)     multiple                  0         \n",
            "                                                                 \n",
            "=================================================================\n",
            "Total params: 170,755\n",
            "Trainable params: 170,755\n",
            "Non-trainable params: 0\n",
            "_________________________________________________________________\n",
            "Epoch 1/30\n",
            "10/10 [==============================] - 13s 761ms/step - mean_squared_error: 1.5063 - mean_absolute_error: 0.9985 - loss: 1.4982 - regularization_loss: 0.0000e+00 - total_loss: 1.4982 - val_mean_squared_error: 1.4216 - val_mean_absolute_error: 0.9724 - val_loss: 1.3946 - val_regularization_loss: 0.0000e+00 - val_total_loss: 1.3946\n",
            "Epoch 2/30\n",
            "10/10 [==============================] - 8s 438ms/step - mean_squared_error: 1.3747 - mean_absolute_error: 0.9628 - loss: 1.3657 - regularization_loss: 0.0000e+00 - total_loss: 1.3657 - val_mean_squared_error: 1.3032 - val_mean_absolute_error: 0.9425 - val_loss: 1.2767 - val_regularization_loss: 0.0000e+00 - val_total_loss: 1.2767\n",
            "Epoch 3/30\n",
            "10/10 [==============================] - 8s 588ms/step - mean_squared_error: 1.1926 - mean_absolute_error: 0.9069 - loss: 1.1809 - regularization_loss: 0.0000e+00 - total_loss: 1.1809 - val_mean_squared_error: 1.1264 - val_mean_absolute_error: 0.8830 - val_loss: 1.1014 - val_regularization_loss: 0.0000e+00 - val_total_loss: 1.1014\n",
            "Epoch 4/30\n",
            "10/10 [==============================] - 7s 364ms/step - mean_squared_error: 0.9719 - mean_absolute_error: 0.8102 - loss: 0.9626 - regularization_loss: 0.0000e+00 - total_loss: 0.9626 - val_mean_squared_error: 0.9776 - val_mean_absolute_error: 0.8010 - val_loss: 0.9557 - val_regularization_loss: 0.0000e+00 - val_total_loss: 0.9557\n",
            "Epoch 5/30\n",
            "10/10 [==============================] - 8s 583ms/step - mean_squared_error: 0.8300 - mean_absolute_error: 0.7280 - loss: 0.8242 - regularization_loss: 0.0000e+00 - total_loss: 0.8242 - val_mean_squared_error: 0.9214 - val_mean_absolute_error: 0.7681 - val_loss: 0.9030 - val_regularization_loss: 0.0000e+00 - val_total_loss: 0.9030\n",
            "Epoch 6/30\n",
            "10/10 [==============================] - 8s 590ms/step - mean_squared_error: 0.7416 - mean_absolute_error: 0.6843 - loss: 0.7358 - regularization_loss: 0.0000e+00 - total_loss: 0.7358 - val_mean_squared_error: 0.8886 - val_mean_absolute_error: 0.7533 - val_loss: 0.8729 - val_regularization_loss: 0.0000e+00 - val_total_loss: 0.8729\n",
            "Epoch 7/30\n",
            "10/10 [==============================] - 6s 361ms/step - mean_squared_error: 0.6612 - mean_absolute_error: 0.6455 - loss: 0.6552 - regularization_loss: 0.0000e+00 - total_loss: 0.6552 - val_mean_squared_error: 0.8677 - val_mean_absolute_error: 0.7450 - val_loss: 0.8544 - val_regularization_loss: 0.0000e+00 - val_total_loss: 0.8544\n",
            "Epoch 8/30\n",
            "10/10 [==============================] - 8s 591ms/step - mean_squared_error: 0.5904 - mean_absolute_error: 0.6094 - loss: 0.5844 - regularization_loss: 0.0000e+00 - total_loss: 0.5844 - val_mean_squared_error: 0.8575 - val_mean_absolute_error: 0.7398 - val_loss: 0.8464 - val_regularization_loss: 0.0000e+00 - val_total_loss: 0.8464\n",
            "Epoch 9/30\n",
            "10/10 [==============================] - 8s 589ms/step - mean_squared_error: 0.5277 - mean_absolute_error: 0.5748 - loss: 0.5216 - regularization_loss: 0.0000e+00 - total_loss: 0.5216 - val_mean_squared_error: 0.8553 - val_mean_absolute_error: 0.7373 - val_loss: 0.8465 - val_regularization_loss: 0.0000e+00 - val_total_loss: 0.8465\n",
            "Epoch 10/30\n",
            "10/10 [==============================] - 7s 367ms/step - mean_squared_error: 0.4716 - mean_absolute_error: 0.5424 - loss: 0.4655 - regularization_loss: 0.0000e+00 - total_loss: 0.4655 - val_mean_squared_error: 0.8592 - val_mean_absolute_error: 0.7376 - val_loss: 0.8530 - val_regularization_loss: 0.0000e+00 - val_total_loss: 0.8530\n",
            "Epoch 11/30\n",
            "10/10 [==============================] - 6s 362ms/step - mean_squared_error: 0.4216 - mean_absolute_error: 0.5122 - loss: 0.4156 - regularization_loss: 0.0000e+00 - total_loss: 0.4156 - val_mean_squared_error: 0.8674 - val_mean_absolute_error: 0.7398 - val_loss: 0.8638 - val_regularization_loss: 0.0000e+00 - val_total_loss: 0.8638\n",
            "Epoch 12/30\n",
            "10/10 [==============================] - 8s 434ms/step - mean_squared_error: 0.3775 - mean_absolute_error: 0.4840 - loss: 0.3716 - regularization_loss: 0.0000e+00 - total_loss: 0.3716 - val_mean_squared_error: 0.8783 - val_mean_absolute_error: 0.7433 - val_loss: 0.8770 - val_regularization_loss: 0.0000e+00 - val_total_loss: 0.8770\n",
            "Epoch 13/30\n",
            "10/10 [==============================] - 6s 365ms/step - mean_squared_error: 0.3389 - mean_absolute_error: 0.4580 - loss: 0.3332 - regularization_loss: 0.0000e+00 - total_loss: 0.3332 - val_mean_squared_error: 0.8908 - val_mean_absolute_error: 0.7476 - val_loss: 0.8914 - val_regularization_loss: 0.0000e+00 - val_total_loss: 0.8914\n"
          ]
        }
      ],
      "source": [
        "#Initialisez le modèle et afficher ses couches (summary)\n",
        "Model_TwoTowers = MovieLensModelWithBias(embedding_dimension, utilisateurs_unique, films_unique, task)\n",
        "Model_TwoTowers(feature)\n",
        "Model_TwoTowers.summary()\n",
        "\n",
        "\n",
        "Model_TwoTowers.compile(optimizer=tf.keras.optimizers.Adam(learning_rate=0.005))\n",
        "\n",
        "my_callbacks = [tf.keras.callbacks.EarlyStopping(patience=5)]\n",
        "history_TwoTowers = Model_TwoTowers.fit(train, epochs=30, validation_data=valid, callbacks=my_callbacks)\n"
      ]
    },
    {
      "cell_type": "code",
      "execution_count": 131,
      "metadata": {
        "colab": {
          "base_uri": "https://localhost:8080/",
          "height": 507
        },
        "id": "K8jgK6TUnBvu",
        "outputId": "96289824-3490-4148-b8a1-e83994385fd1"
      },
      "outputs": [
        {
          "output_type": "display_data",
          "data": {
            "text/plain": [
              "<Figure size 640x480 with 1 Axes>"
            ],
            "image/png": "[encoded data removed]"
          },
          "metadata": {}
        },
        {
          "output_type": "stream",
          "name": "stdout",
          "text": [
            "Erreur MSE modèle Two Tower : 0.8553\n",
            "Erreur MAE modèle Two Tower : 0.7373\n"
          ]
        }
      ],
      "source": [
        "# Affichage des résultats\n",
        "plt.plot(history_TwoTowers.history['mean_squared_error'])\n",
        "plt.plot(history_TwoTowers.history['val_mean_squared_error'])\n",
        "plt.title(\"Two Towers Model MSE\")\n",
        "plt.ylabel('MSE')\n",
        "plt.xlabel('epoch')\n",
        "plt.legend(['train', 'validation'], loc='best')\n",
        "plt.show()\n",
        "print(\"Erreur MSE modèle Two Tower : {0:.4f}\".format(min(history_TwoTowers.history['val_mean_squared_error'])))\n",
        "print(\"Erreur MAE modèle Two Tower : {0:.4f}\".format(history_TwoTowers.history['val_mean_absolute_error'][np.argmin(history_TwoTowers.history['val_mean_squared_error'])]))\n"
      ]
    },
    {
      "cell_type": "code",
      "source": [
        "pred_valid_TwoTowers = Model_TwoTowers.predict(valid)\n",
        "\n",
        "# Transformer l'ensemble de validation en itérateur numpy\n",
        "valid_iter = valid.as_numpy_iterator()\n",
        "\n",
        "# Récupérer les ID d'utilisateur et d'élément correspondants\n",
        "user_ids = []\n",
        "item_ids = []\n",
        "for batch in valid_iter:\n",
        "  user_ids.extend(batch['user_id'].tolist())\n",
        "  item_ids.extend(batch['movie_id'].tolist())\n",
        "\n",
        "# Transformer les ID d'utilisateur et d'élément en tableaux numpy\n",
        "user_ids = np.array(user_ids).astype(float)\n",
        "item_ids = np.array(item_ids).astype(float)\n",
        "\n",
        "MUI_pred = pd.DataFrame(np.zeros_like(MUI))\n",
        "MUI_pred.columns = MUI.columns\n",
        "MUI_pred.index = MUI.index\n",
        "\n",
        "for i in range(len(user_ids)):\n",
        "  MUI_pred.loc[user_ids[i], item_ids[i]] = pred_valid_TwoTowers[i][0]\n",
        "\n",
        "MUI_pred = MUI_pred.to_numpy().astype(np.float32)"
      ],
      "metadata": {
        "colab": {
          "base_uri": "https://localhost:8080/"
        },
        "id": "xxthXhCyfSNq",
        "outputId": "8bfacd48-3377-4bd4-a847-2471331a6283"
      },
      "execution_count": 132,
      "outputs": [
        {
          "output_type": "stream",
          "name": "stdout",
          "text": [
            "3/3 [==============================] - 4s 13ms/step\n"
          ]
        }
      ]
    },
    {
      "cell_type": "code",
      "source": [
        "print(\"Facteur de succès de l'approche TwoTowers :\")\n",
        "print(\"utilite = \", calcul_facteur(MUI, MUI_pred, \"utilite\", 10))\n",
        "print(\"diversite = \", calcul_facteur(MUI, MUI_pred, \"diversite\", 10))\n",
        "print(\"nouveaute = \", calcul_facteur(MUI, MUI_pred, \"nouveaute\", 10))\n",
        "print(\"serendipite = \", calcul_facteur(MUI, MUI_pred, \"serendipite\", 10))\n",
        "print(\"couverture = \", calcul_facteur(MUI, MUI_pred, \"couverture\", 10))"
      ],
      "metadata": {
        "colab": {
          "base_uri": "https://localhost:8080/"
        },
        "id": "TdW58fJ4k5Lp",
        "outputId": "b9481e3e-59f5-4ee8-eb67-a396dcc45911"
      },
      "execution_count": 133,
      "outputs": [
        {
          "output_type": "stream",
          "name": "stdout",
          "text": [
            "Facteur de succès de l'approche TwoTowers :\n",
            "utilite =  2.9377518\n",
            "diversite =  0.10707916948530409\n",
            "nouveaute =  6.218138408660889\n",
            "serendipite =  6.484041722788741\n",
            "couverture =  0.005945303210463734\n"
          ]
        }
      ]
    },
    {
      "cell_type": "markdown",
      "metadata": {
        "id": "b_LOAaTOk1x5"
      },
      "source": [
        "# Modèle AutoREC"
      ]
    },
    {
      "cell_type": "code",
      "execution_count": 105,
      "metadata": {
        "colab": {
          "base_uri": "https://localhost:8080/"
        },
        "id": "IjAxyE0jlY4Q",
        "outputId": "d7597c93-f0a2-48bf-ddbe-2ba3ff5771aa"
      },
      "outputs": [
        {
          "output_type": "stream",
          "name": "stderr",
          "text": [
            "<ipython-input-105-5611c5beaaf9>:4: FutureWarning: In a future version of pandas all arguments of DataFrame.pivot will be keyword-only.\n",
            "  train_mat = votes_train_df.pivot(votes_train_df.columns[0], votes_train_df.columns[1], votes_train_df.columns[2])\n",
            "<ipython-input-105-5611c5beaaf9>:5: FutureWarning: In a future version of pandas all arguments of DataFrame.pivot will be keyword-only.\n",
            "  valid_mat = votes_valid_df.pivot(votes_train_df.columns[0], votes_train_df.columns[1], votes_train_df.columns[2])\n"
          ]
        }
      ],
      "source": [
        "valid_split = 0.2\n",
        "votes_train_df, votes_valid_df  = train_test_split(votes_df, test_size=valid_split)\n",
        "\n",
        "train_mat = votes_train_df.pivot(votes_train_df.columns[0], votes_train_df.columns[1], votes_train_df.columns[2])\n",
        "valid_mat = votes_valid_df.pivot(votes_train_df.columns[0], votes_train_df.columns[1], votes_train_df.columns[2])\n",
        "\n",
        "col_list = list(set().union(train_mat.columns, valid_mat.columns))\n",
        "col_list.sort()\n",
        "\n",
        "train_mat = train_mat.reindex(columns=col_list, fill_value=np.nan)\n",
        "valid_mat = valid_mat.reindex(columns=col_list, fill_value=np.nan)\n",
        "\n",
        "train_mat.fillna(0, inplace=True)\n",
        "valid_mat.fillna(0, inplace=True)\n"
      ]
    },
    {
      "cell_type": "code",
      "execution_count": 107,
      "metadata": {
        "id": "0MOpbOzDiYts"
      },
      "outputs": [],
      "source": [
        "class AutoREC(tf.keras.Model):\n",
        "    def __init__(self, input_len, output_len=None, min_vote=1, max_vote=5, dropout=0.5, name=\"MovieLensAutoEncoder\"):\n",
        "        super(AutoREC, self).__init__()\n",
        "        \n",
        "        model = Sequential(name=name)\n",
        "        model.add(tf.keras.Input(shape=(input_len,)))\n",
        "        model.add(layers.Dropout(rate = dropout))\n",
        "        model.add(layers.Dense(500, activation=\"sigmoid\", name=\"DenseLayer1\"))\n",
        "        model.add(layers.Dropout(rate = dropout))\n",
        "        model.add(layers.Dense(250, activation=\"sigmoid\", name=\"DenseLayer2\"))\n",
        "        model.add(layers.Dropout(rate = dropout))\n",
        "        model.add(layers.Dense(500, activation=\"sigmoid\", name=\"DenseLayer3\"))\n",
        "        model.add(layers.Dense(output_len, activation=\"sigmoid\", name=\"DenseLayer4\")) \n",
        "\n",
        "        self.model = model\n",
        "        self.min_vote = min_vote\n",
        "        self.max_vote = max_vote\n",
        "\n",
        "\n",
        "\n",
        "    def summary(self):\n",
        "        self.model.summary()\n",
        "\n",
        "    def call(self, x, training=None):\n",
        "        return self.model(x, training) * (self.max_vote-self.min_vote) + self.min_vote"
      ]
    },
    {
      "cell_type": "code",
      "execution_count": 108,
      "metadata": {
        "id": "dZvTT4tKngQH"
      },
      "outputs": [],
      "source": [
        "# Pour le modèle AutoREC nous devons utiliser une version de modifiée de la RMSE qui ne prend pas en compte les valeurs de votes manquantes\n",
        "class ModifiedRootMeanSquarredError(tf.keras.losses.MeanSquaredError):\n",
        "    def __init__(self, nb_items):\n",
        "        super(ModifiedRootMeanSquarredError, self).__init__()\n",
        "        self.nb_items = nb_items\n",
        "\n",
        "    def __call__(self, y_true, y_pred, sample_weight=None):\n",
        "        y_true = y_true[:, :self.nb_items]\n",
        "        y_pred = y_pred[:, :self.nb_items]\n",
        "        return tf.math.sqrt(super(ModifiedRootMeanSquarredError, self).__call__(y_true[y_true > 0], y_pred[y_true > 0], sample_weight))\n",
        "\n",
        "class ModifiedMeanSquarredError(tf.keras.losses.MeanSquaredError):\n",
        "    def __init__(self, nb_items):\n",
        "        super(ModifiedMeanSquarredError, self).__init__()\n",
        "        self.nb_items = nb_items\n",
        "\n",
        "    def __call__(self, y_true, y_pred, sample_weight=None):\n",
        "        y_true = y_true[:, :self.nb_items]\n",
        "        y_pred = y_pred[:, :self.nb_items]\n",
        "        return super(ModifiedMeanSquarredError, self).__call__(y_true[y_true > 0], y_pred[y_true > 0], sample_weight)\n",
        "\n",
        "class ModifiedMeanAbsoluteError(tf.keras.losses.MeanAbsoluteError):\n",
        "    def __init__(self, nb_items):\n",
        "        super(ModifiedMeanAbsoluteError, self).__init__()\n",
        "        self.nb_items = nb_items\n",
        "\n",
        "    def __call__(self, y_true, y_pred, sample_weight=None):\n",
        "        y_true = y_true[:, :self.nb_items]\n",
        "        y_pred = y_pred[:, :self.nb_items]\n",
        "        return super(ModifiedMeanAbsoluteError, self).__call__(y_true[y_true > 0], y_pred[y_true > 0], sample_weight)"
      ]
    },
    {
      "cell_type": "code",
      "execution_count": 109,
      "metadata": {
        "id": "JxsDxLoo0Nns"
      },
      "outputs": [],
      "source": [
        "batch_size = 64\n",
        "buffer_size = 100\n",
        "\n",
        "train_dataset = tf.data.Dataset.from_tensor_slices((train_mat.to_numpy(), train_mat.to_numpy()))\n",
        "valid_dataset = tf.data.Dataset.from_tensor_slices((valid_mat.to_numpy(), valid_mat.to_numpy()))\n",
        "\n",
        "train_dataset = train_dataset.shuffle(buffer_size).batch(batch_size)\n",
        "valid_dataset = valid_dataset.batch(batch_size) "
      ]
    },
    {
      "cell_type": "code",
      "execution_count": 110,
      "metadata": {
        "colab": {
          "base_uri": "https://localhost:8080/"
        },
        "id": "NeJkjWc3zURn",
        "outputId": "fe3c4224-f3e9-42a1-d191-fb93e8e3c51f"
      },
      "outputs": [
        {
          "output_type": "stream",
          "name": "stdout",
          "text": [
            "Epoch 1/100\n",
            "15/15 [==============================] - 2s 35ms/step - loss: 1.0887 - mean_squared_error: 1.1914 - mean_absolute_error: 0.8753 - val_loss: 1.0440 - val_mean_squared_error: 1.0915 - val_mean_absolute_error: 0.8350\n",
            "Epoch 2/100\n",
            "15/15 [==============================] - 0s 9ms/step - loss: 1.0145 - mean_squared_error: 1.0308 - mean_absolute_error: 0.8163 - val_loss: 1.0275 - val_mean_squared_error: 1.0571 - val_mean_absolute_error: 0.8255\n",
            "Epoch 3/100\n",
            "15/15 [==============================] - 0s 9ms/step - loss: 1.0067 - mean_squared_error: 1.0134 - mean_absolute_error: 0.8032 - val_loss: 1.0282 - val_mean_squared_error: 1.0586 - val_mean_absolute_error: 0.8274\n",
            "Epoch 4/100\n",
            "15/15 [==============================] - 0s 8ms/step - loss: 1.0054 - mean_squared_error: 1.0112 - mean_absolute_error: 0.8043 - val_loss: 1.0265 - val_mean_squared_error: 1.0552 - val_mean_absolute_error: 0.8247\n",
            "Epoch 5/100\n",
            "15/15 [==============================] - 0s 10ms/step - loss: 1.0015 - mean_squared_error: 1.0035 - mean_absolute_error: 0.8011 - val_loss: 1.0268 - val_mean_squared_error: 1.0558 - val_mean_absolute_error: 0.8249\n",
            "Epoch 6/100\n",
            "15/15 [==============================] - 0s 8ms/step - loss: 1.0007 - mean_squared_error: 1.0008 - mean_absolute_error: 0.7989 - val_loss: 1.0273 - val_mean_squared_error: 1.0568 - val_mean_absolute_error: 0.8290\n",
            "Epoch 7/100\n",
            "15/15 [==============================] - 0s 9ms/step - loss: 0.9962 - mean_squared_error: 0.9933 - mean_absolute_error: 0.7965 - val_loss: 1.0288 - val_mean_squared_error: 1.0600 - val_mean_absolute_error: 0.8313\n",
            "Epoch 8/100\n",
            "15/15 [==============================] - 0s 8ms/step - loss: 0.9982 - mean_squared_error: 0.9970 - mean_absolute_error: 0.7977 - val_loss: 1.0300 - val_mean_squared_error: 1.0624 - val_mean_absolute_error: 0.8339\n",
            "Epoch 9/100\n",
            "15/15 [==============================] - 0s 9ms/step - loss: 0.9870 - mean_squared_error: 0.9737 - mean_absolute_error: 0.7882 - val_loss: 1.0332 - val_mean_squared_error: 1.0689 - val_mean_absolute_error: 0.8396\n"
          ]
        }
      ],
      "source": [
        "lr = 1e-3\n",
        "epochs = 100\n",
        "dropout = 0.5\n",
        "input_len  = train_mat.shape[1]\n",
        "output_len = train_mat.shape[1]\n",
        "\n",
        "my_callbacks = [tf.keras.callbacks.ModelCheckpoint(filepath='/tmp/checkpoint',\n",
        "                  save_weights_only=True,\n",
        "                  monitor='val_loss',\n",
        "                  mode='max',\n",
        "                  save_best_only=True),\n",
        "                tf.keras.callbacks.EarlyStopping(patience=5)]\n",
        "\n",
        "autorec = AutoREC(input_len, output_len, dropout=dropout)\n",
        "\n",
        "autorec.compile(optimizer=tf.keras.optimizers.Adam(learning_rate=lr), loss=ModifiedRootMeanSquarredError(output_len), metrics=[ModifiedMeanSquarredError(output_len), ModifiedMeanAbsoluteError(output_len)])\n",
        "\n",
        "history_autorec = autorec.fit(train_dataset, epochs=epochs, validation_data=valid_dataset, callbacks=my_callbacks)"
      ]
    },
    {
      "cell_type": "code",
      "execution_count": 111,
      "metadata": {
        "colab": {
          "base_uri": "https://localhost:8080/",
          "height": 507
        },
        "id": "XFC8mfW0ZBjL",
        "outputId": "a3f87e08-a9ea-4130-97f9-aa73c077f479"
      },
      "outputs": [
        {
          "output_type": "display_data",
          "data": {
            "text/plain": [
              "<Figure size 640x480 with 1 Axes>"
            ],
            "image/png": "[encoded data removed]"
          },
          "metadata": {}
        },
        {
          "output_type": "stream",
          "name": "stdout",
          "text": [
            "Erreur MSE modèle AutoREC : 1.0552\n",
            "Erreur MAE modèle AutoREC : 0.7338\n"
          ]
        }
      ],
      "source": [
        "# Affichage des résultats\n",
        "plt.plot(history_autorec.history['mean_squared_error'])\n",
        "plt.plot(history_autorec.history['val_mean_squared_error'])\n",
        "plt.title('AutoREC Model MSE')\n",
        "plt.ylabel('MSE')\n",
        "plt.xlabel('epoch')\n",
        "plt.legend(['train', 'validation'], loc='best')\n",
        "plt.show()\n",
        "print(\"Erreur MSE modèle AutoREC : {0:.4f}\".format(min(history_autorec.history['val_mean_squared_error'])))\n",
        "print(\"Erreur MAE modèle AutoREC : {0:.4f}\".format(history_TwoTowers.history['val_mean_absolute_error'][np.argmin(history_TwoTowers.history['val_mean_squared_error'])]))"
      ]
    },
    {
      "cell_type": "code",
      "source": [
        "valid_tensor = tf.convert_to_tensor(valid_mat.to_numpy(), dtype=tf.float32)\n",
        "MUI_pred = AutoREC(input_len=valid_tensor.shape[1], output_len=valid_tensor.shape[1])(valid_tensor).numpy()\n",
        "\n",
        "print(\"Facteur de succès de l'approche AutoRec :\")\n",
        "print(\"utilite = \", calcul_facteur(MUI, MUI_pred, \"utilite\", 10))\n",
        "print(\"diversite = \", calcul_facteur(MUI, MUI_pred, \"diversite\", 10))\n",
        "print(\"nouveaute = \", calcul_facteur(MUI, MUI_pred, \"nouveaute\", 10))\n",
        "print(\"serendipite = \", calcul_facteur(MUI, MUI_pred, \"serendipite\", 10))\n",
        "print(\"couverture = \", calcul_facteur(MUI, MUI_pred, \"couverture\", 10))"
      ],
      "metadata": {
        "colab": {
          "base_uri": "https://localhost:8080/"
        },
        "id": "Pid6AK21sPmn",
        "outputId": "afa23234-fbe4-4454-e52d-23bacc4f172a"
      },
      "execution_count": 113,
      "outputs": [
        {
          "output_type": "stream",
          "name": "stdout",
          "text": [
            "Facteur de succès de l'approche AutoRec :\n",
            "utilite =  3.8915844\n",
            "diversite =  0.060184867464640655\n",
            "nouveaute =  6.314993386051182\n",
            "serendipite =  6.599607281289177\n",
            "couverture =  0.011296076099881093\n"
          ]
        }
      ]
    }
  ],
  "metadata": {
    "accelerator": "GPU",
    "colab": {
      "gpuType": "T4",
      "provenance": []
    },
    "gpuClass": "standard",
    "kernelspec": {
      "display_name": "Python 3 (ipykernel)",
      "language": "python",
      "name": "python3"
    },
    "language_info": {
      "codemirror_mode": {
        "name": "ipython",
        "version": 3
      },
      "file_extension": ".py",
      "mimetype": "text/x-python",
      "name": "python",
      "nbconvert_exporter": "python",
      "pygments_lexer": "ipython3",
      "version": "3.9.12"
    }
  },
  "nbformat": 4,
  "nbformat_minor": 0
}